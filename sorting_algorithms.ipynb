{
 "cells": [
  {
   "cell_type": "code",
   "execution_count": 2,
   "metadata": {},
   "outputs": [
    {
     "data": {
      "text/plain": [
       "'Bubble Sort:'"
      ]
     },
     "metadata": {},
     "output_type": "display_data"
    },
    {
     "data": {
      "text/plain": [
       "[11, 12, 22, 25, 34, 64, 90]"
      ]
     },
     "metadata": {},
     "output_type": "display_data"
    }
   ],
   "source": [
    "\"\"\"\n",
    "Bubble Sort Algorithm\n",
    "\n",
    "Bubble Sort is a simple sorting algorithm that repeatedly steps through the list, compares adjacent elements, and swaps them if they are in the wrong order. The pass through the list is repeated until the list is sorted.\n",
    "\n",
    "Description:\n",
    "- The algorithm starts at the beginning of the list and compares the first two elements.\n",
    "- If the first element is greater than the second, they are swapped.\n",
    "- This process continues for each pair of adjacent elements to the end of the list.\n",
    "- The largest element \"bubbles\" to the end of the list after the first pass.\n",
    "- The process is repeated for the remaining elements, excluding the last sorted elements.\n",
    "- This continues until no more swaps are needed, indicating that the list is sorted.\n",
    "\n",
    "Time complexity: O(n^2), where n is the number of elements in the array.\n",
    "Space complexity: O(1), since we sort the array in place.\n",
    "\"\"\"\n",
    "def bubble_sort(arr: list[int]) -> list[int]:\n",
    "    n = len(arr)\n",
    "    # Traverse through all array elements\n",
    "    for i in range(n):\n",
    "        # Last i elements are already in place\n",
    "        for j in range(0, n-i-1):\n",
    "            # Traverse the array from 0 to n-i-1\n",
    "            # Swap if the element found is greater than the next element\n",
    "            if arr[j] > arr[j+1]:\n",
    "                arr[j], arr[j+1] = arr[j+1], arr[j]\n",
    "    return arr\n",
    "\n",
    "# Example usage\n",
    "unsorted_array = [64, 34, 25, 12, 22, 11, 90]\n",
    "sorted_array = bubble_sort(unsorted_array)\n",
    "display(\"Bubble Sort:\", sorted_array)"
   ]
  },
  {
   "cell_type": "code",
   "execution_count": 3,
   "metadata": {},
   "outputs": [
    {
     "data": {
      "text/plain": [
       "'Insertion Sort:'"
      ]
     },
     "metadata": {},
     "output_type": "display_data"
    },
    {
     "data": {
      "text/plain": [
       "[5, 6, 11, 12, 13]"
      ]
     },
     "metadata": {},
     "output_type": "display_data"
    }
   ],
   "source": [
    "\"\"\"\n",
    "Insertion Sort Algorithm\n",
    "\n",
    "Insertion Sort is a simple sorting algorithm that builds the final sorted array one item at a time. It is much less efficient on large lists than more advanced algorithms such as quicksort, heapsort, or merge sort.\n",
    "\n",
    "Description:\n",
    "- The algorithm divides the input list into two parts: the sublist of items already sorted, which is built up from left to right at the front (left) of the list, and the sublist of items remaining to be sorted that occupy the rest of the list.\n",
    "- Initially, the sorted sublist contains only the first element of the input list.\n",
    "- The algorithm proceeds by taking one element from the unsorted sublist and inserting it into the correct position in the sorted sublist.\n",
    "- This process is repeated until all elements are sorted.\n",
    "\n",
    "Time complexity: O(n^2), where n is the number of elements in the array.\n",
    "Space complexity: O(1), since we sort the array in place.\n",
    "\"\"\"\n",
    "def insertion_sort(arr: list[int]) -> list[int]:\n",
    "    # Traverse through 1 to len(arr)\n",
    "    for i in range(1, len(arr)):\n",
    "        key = arr[i]\n",
    "        j = i - 1\n",
    "        # Move elements of arr[0..i-1], that are greater than key, to one position ahead of their current position\n",
    "        while j >= 0 and key < arr[j]:\n",
    "            arr[j + 1] = arr[j]\n",
    "            j -= 1\n",
    "        arr[j + 1] = key\n",
    "    return arr\n",
    "\n",
    "# Example usage\n",
    "unsorted_array = [12, 11, 13, 5, 6]\n",
    "sorted_array = insertion_sort(unsorted_array)\n",
    "display(\"Insertion Sort:\", sorted_array)"
   ]
  },
  {
   "cell_type": "code",
   "execution_count": 4,
   "metadata": {},
   "outputs": [
    {
     "data": {
      "text/plain": [
       "'Merge Sort:'"
      ]
     },
     "metadata": {},
     "output_type": "display_data"
    },
    {
     "data": {
      "text/plain": [
       "[5, 6, 7, 11, 12, 13]"
      ]
     },
     "metadata": {},
     "output_type": "display_data"
    }
   ],
   "source": [
    "\"\"\"\n",
    "Merge Sort Algorithm\n",
    "\n",
    "Merge Sort is a divide-and-conquer algorithm that divides the input array into two halves, calls itself for the two halves, and then merges the two sorted halves. The merge() function is used for merging two halves.\n",
    "\n",
    "Description:\n",
    "- If the array has more than one element, split the array into two halves.\n",
    "- Recursively sort each half.\n",
    "- Merge the two sorted halves to produce the sorted array.\n",
    "\n",
    "Time complexity: O(n log n), where n is the number of elements in the array.\n",
    "Space complexity: O(n), since we use additional space for the temporary arrays.\n",
    "\"\"\"\n",
    "def merge_sort(arr: list[int]) -> list[int]:\n",
    "    if len(arr) > 1:\n",
    "        # Find the middle point to divide the array into two halves\n",
    "        mid = len(arr) // 2\n",
    "        L = arr[:mid]\n",
    "        R = arr[mid:]\n",
    "\n",
    "        # Recursively sort the two halves\n",
    "        merge_sort(L)\n",
    "        merge_sort(R)\n",
    "\n",
    "        i = j = k = 0\n",
    "\n",
    "        # Merge the sorted halves\n",
    "        while i < len(L) and j < len(R):\n",
    "            if L[i] < R[j]:\n",
    "                arr[k] = L[i]\n",
    "                i += 1\n",
    "            else:\n",
    "                arr[k] = R[j]\n",
    "                j += 1\n",
    "            k += 1\n",
    "\n",
    "        # Copy the remaining elements of L, if any\n",
    "        while i < len(L):\n",
    "            arr[k] = L[i]\n",
    "            i += 1\n",
    "            k += 1\n",
    "\n",
    "        # Copy the remaining elements of R, if any\n",
    "        while j < len(R):\n",
    "            arr[k] = R[j]\n",
    "            j += 1\n",
    "            k += 1\n",
    "\n",
    "    return arr\n",
    "\n",
    "# Example usage\n",
    "unsorted_array = [12, 11, 13, 5, 6, 7]\n",
    "sorted_array = merge_sort(unsorted_array)\n",
    "display(\"Merge Sort:\", sorted_array)"
   ]
  },
  {
   "cell_type": "code",
   "execution_count": 5,
   "metadata": {},
   "outputs": [
    {
     "data": {
      "text/plain": [
       "'Quick Sort:'"
      ]
     },
     "metadata": {},
     "output_type": "display_data"
    },
    {
     "data": {
      "text/plain": [
       "[1, 5, 7, 8, 9, 10]"
      ]
     },
     "metadata": {},
     "output_type": "display_data"
    }
   ],
   "source": [
    "\"\"\"\n",
    "Quick Sort Algorithm\n",
    "\n",
    "Quick Sort is a highly efficient sorting algorithm and is based on partitioning of array of data into smaller arrays. A large array is partitioned into two arrays, one of which holds values smaller than the specified value, say pivot, based on which the partition is made and another array holds values greater than the pivot value.\n",
    "\n",
    "Description:\n",
    "- The algorithm picks an element as a pivot and partitions the given array around the picked pivot.\n",
    "- There are many different versions of quick sort that pick pivot in different ways:\n",
    "  - Always pick the first element as a pivot.\n",
    "  - Always pick the last element as a pivot.\n",
    "  - Pick a random element as a pivot.\n",
    "  - Pick the median as the pivot.\n",
    "- The key process in quick sort is partitioning. The target of partitions is, given an array and an element x of the array as the pivot, put x at its correct position in the sorted array and put all smaller elements (smaller than x) before x, and put all greater elements (greater than x) after x.\n",
    "- Recursively apply the above steps to the sub-array of elements with smaller values and separately to the sub-array of elements with greater values.\n",
    "\n",
    "Time complexity: O(n log n) on average, O(n^2) in the worst case.\n",
    "Space complexity: O(log n) due to the recursion stack.\n",
    "\"\"\"\n",
    "def quick_sort(arr: list[int]) -> list[int]:\n",
    "    # Base case: if the array has 1 or 0 elements, it is already sorted\n",
    "    if len(arr) <= 1:\n",
    "        return arr\n",
    "    else:\n",
    "        # Choose the pivot element\n",
    "        pivot = arr[len(arr) // 2]\n",
    "        # Partition the array into three parts: left, middle, and right\n",
    "        left = [x for x in arr if x < pivot]\n",
    "        middle = [x for x in arr if x == pivot]\n",
    "        right = [x for x in arr if x > pivot]\n",
    "        # Recursively apply quick_sort to the left and right parts, and concatenate the results\n",
    "        return quick_sort(left) + middle + quick_sort(right)\n",
    "\n",
    "# Example usage\n",
    "unsorted_array = [10, 7, 8, 9, 1, 5]\n",
    "sorted_array = quick_sort(unsorted_array)\n",
    "display(\"Quick Sort:\", sorted_array)"
   ]
  },
  {
   "cell_type": "code",
   "execution_count": 9,
   "metadata": {},
   "outputs": [
    {
     "name": "stdout",
     "output_type": "stream",
     "text": [
      "Heapify: [10, 7, 8, 9, 1, 5]\n"
     ]
    }
   ],
   "source": [
    "\"\"\"\n",
    "Helper function to maintain the heap property.\n",
    "\n",
    "Heapify is a process that maintains the heap property of a binary heap. In a max-heap, for any given node I, the value of I is greater than or equal to the values of its children, and the same property must be recursively true for all sub-trees in that heap.\n",
    "\n",
    "Description:\n",
    "- The function takes an array `arr`, the size of the heap `n`, and an index `i` as input.\n",
    "- It assumes that the binary trees rooted at the left and right children of `i` are max-heaps, but `arr[i]` might be smaller than its children, violating the max-heap property.\n",
    "- The function ensures that the subtree rooted at `i` becomes a max-heap by:\n",
    "  - Comparing `arr[i]` with its left and right children.\n",
    "  - Swapping `arr[i]` with the largest of its children if necessary.\n",
    "  - Recursively applying the same process to the affected subtree.\n",
    "\n",
    "Time complexity: O(log n), where n is the number of elements in the heap.\n",
    "Space complexity: O(log n) due to the recursion stack.\n",
    "\"\"\"\n",
    "def heapify(arr: list[int], n: int, i: int):\n",
    "    largest = i  # Initialize largest as root\n",
    "    l = 2 * i + 1  # left = 2*i + 1\n",
    "    r = 2 * i + 2  # right = 2*i + 2\n",
    "\n",
    "    # If left child is larger than root\n",
    "    if l < n and arr[i] < arr[l]:\n",
    "        largest = l\n",
    "\n",
    "    # If right child is larger than largest so far\n",
    "    if r < n and arr[largest] < arr[r]:\n",
    "        largest = r\n",
    "\n",
    "    # If largest is not root\n",
    "    if largest != i:\n",
    "        arr[i], arr[largest] = arr[largest], arr[i]  # Swap\n",
    "        # Recursively heapify the affected sub-tree\n",
    "        heapify(arr, n, largest)\n",
    "\n",
    "# Example usage\n",
    "unsorted_array = [10, 7, 8, 9, 1, 5]\n",
    "heapify(unsorted_array, len(unsorted_array), 0)\n",
    "display(\"Heapify:\", unsorted_array)"
   ]
  },
  {
   "cell_type": "code",
   "execution_count": 10,
   "metadata": {},
   "outputs": [
    {
     "data": {
      "text/plain": [
       "'Heap Sort:'"
      ]
     },
     "metadata": {},
     "output_type": "display_data"
    },
    {
     "data": {
      "text/plain": [
       "[5, 6, 7, 11, 12, 13]"
      ]
     },
     "metadata": {},
     "output_type": "display_data"
    }
   ],
   "source": [
    "\"\"\"\n",
    "Heap Sort Algorithm\n",
    "\n",
    "Heap Sort is a comparison-based sorting technique based on a binary heap data structure. It is similar to selection sort where we first find the maximum element and place the maximum element at the end. We repeat the same process for the remaining elements.\n",
    "\n",
    "Description:\n",
    "- The algorithm builds a max heap from the input data.\n",
    "- The largest item is stored at the root of the heap. Replace it with the last item of the heap followed by reducing the size of the heap by one. Finally, heapify the root of the tree.\n",
    "- Repeat the above steps while the size of the heap is greater than 1.\n",
    "\n",
    "Time complexity: O(n log n), where n is the number of elements in the array.\n",
    "Space complexity: O(1), since we sort the array in place.\n",
    "\"\"\"\n",
    "def heapify(arr: list[int], n: int, i: int):\n",
    "    \"\"\"\n",
    "    To heapify a subtree rooted with node i which is an index in arr[].\n",
    "    n is the size of the heap.\n",
    "    \"\"\"\n",
    "    largest = i  # Initialize largest as root\n",
    "    l = 2 * i + 1  # left = 2*i + 1\n",
    "    r = 2 * i + 2  # right = 2*i + 2\n",
    "\n",
    "    # See if left child of root exists and is greater than root\n",
    "    if l < n and arr[i] < arr[l]:\n",
    "        largest = l\n",
    "\n",
    "    # See if right child of root exists and is greater than root\n",
    "    if r < n and arr[largest] < arr[r]:\n",
    "        largest = r\n",
    "\n",
    "    # Change root, if needed\n",
    "    if largest != i:\n",
    "        arr[i], arr[largest] = arr[largest], arr[i]  # swap\n",
    "\n",
    "        # Heapify the root.\n",
    "        heapify(arr, n, largest)\n",
    "\n",
    "def heap_sort(arr: list[int]) -> list[int]:\n",
    "    n = len(arr)\n",
    "\n",
    "    # Build a maxheap.\n",
    "    for i in range(n // 2 - 1, -1, -1):\n",
    "        heapify(arr, n, i)\n",
    "\n",
    "    # One by one extract elements\n",
    "    for i in range(n-1, 0, -1):\n",
    "        arr[i], arr[0] = arr[0], arr[i]  # swap\n",
    "        heapify(arr, i, 0)\n",
    "\n",
    "    return arr\n",
    "\n",
    "# Example usage\n",
    "unsorted_array = [12, 11, 13, 5, 6, 7]\n",
    "sorted_array = heap_sort(unsorted_array)\n",
    "display(\"Heap Sort:\", sorted_array)"
   ]
  },
  {
   "cell_type": "code",
   "execution_count": 12,
   "metadata": {},
   "outputs": [
    {
     "name": "stdout",
     "output_type": "stream",
     "text": [
      "Counting Sort: [11, 12, 13, 5, 6, 7]\n"
     ]
    }
   ],
   "source": [
    "\"\"\"\n",
    "Helper function to perform counting sort based on the digit represented by exp.\n",
    "\n",
    "Counting Sort Algorithm:\n",
    "- Counting sort is a sorting technique based on keys between a specific range. It works by counting the number of objects having distinct key values (kind of hashing).\n",
    "- Then doing some arithmetic to calculate the position of each object in the output sequence.\n",
    "\n",
    "Description:\n",
    "- This function is a helper function for radix sort. It performs counting sort on the array based on the digit represented by exp (exponent).\n",
    "- The exp parameter represents the digit position (1 for units, 10 for tens, 100 for hundreds, etc.).\n",
    "- The function creates a count array to store the count of occurrences of each digit (0 to 9).\n",
    "- It then modifies the count array such that each element at each index stores the sum of previous counts. This determines the position of each digit in the output array.\n",
    "- The function builds the output array using the count array and the original array.\n",
    "- Finally, it copies the sorted elements from the output array back to the original array.\n",
    "\n",
    "Time complexity: O(n), where n is the number of elements in the array.\n",
    "Space complexity: O(n), due to the output array.\n",
    "\"\"\"\n",
    "def counting_sort(arr: list[int], exp: int):\n",
    "    n = len(arr)\n",
    "    output = [0] * n  # Output array to store sorted elements\n",
    "    count = [0] * 10  # Count array to store count of occurrences of digits (0 to 9)\n",
    "\n",
    "    # Store count of occurrences of each digit in count[]\n",
    "    for i in range(n):\n",
    "        index = arr[i] // exp\n",
    "        count[index % 10] += 1\n",
    "\n",
    "    # Change count[i] so that count[i] contains the actual position of this digit in output[]\n",
    "    for i in range(1, 10):\n",
    "        count[i] += count[i - 1]\n",
    "\n",
    "    # Build the output array\n",
    "    i = n - 1\n",
    "    while i >= 0:\n",
    "        index = arr[i] // exp\n",
    "        output[count[index % 10] - 1] = arr[i]\n",
    "        count[index % 10] -= 1\n",
    "        i -= 1\n",
    "\n",
    "    # Copy the output array to arr[], so that arr[] now contains sorted numbers according to the current digit\n",
    "    for i in range(n):\n",
    "        arr[i] = output[i]\n",
    "\n",
    "# Example usage\n",
    "unsorted_array = [12, 11, 13, 5, 6, 7]\n",
    "counting_sort(unsorted_array, 1)\n",
    "display(\"Counting Sort:\", unsorted_array)"
   ]
  },
  {
   "cell_type": "code",
   "execution_count": 22,
   "metadata": {},
   "outputs": [
    {
     "data": {
      "text/plain": [
       "'Radix Sort:'"
      ]
     },
     "metadata": {},
     "output_type": "display_data"
    },
    {
     "data": {
      "text/plain": [
       "[2, 24, 45, 66, 75, 90, 170, 802]"
      ]
     },
     "metadata": {},
     "output_type": "display_data"
    }
   ],
   "source": [
    "\"\"\"\n",
    "Radix Sort Algorithm\n",
    "\n",
    "Radix Sort is a non-comparative sorting algorithm. It sorts numbers by processing individual digits. The algorithm processes digits from the least significant digit to the most significant digit.\n",
    "\n",
    "Description:\n",
    "- The algorithm first finds the maximum number in the array to determine the number of digits.\n",
    "- It then performs counting sort for every digit. The digit is represented by exp (exponent), which is 1 for the units place, 10 for the tens place, 100 for the hundreds place, and so on.\n",
    "- Counting sort is used as a subroutine to sort the array based on the current digit.\n",
    "\n",
    "Time complexity: O(d * (n + k)), where d is the number of digits, n is the number of elements, and k is the range of the digits.\n",
    "Space complexity: O(n + k), since we use additional space for the counting sort.\n",
    "\"\"\"\n",
    "def radix_sort(arr: list[int]) -> list[int]:\n",
    "    # Find the maximum number to know the number of digits\n",
    "    max1 = max(arr)\n",
    "    exp = 1\n",
    "    # Perform counting sort for every digit\n",
    "    while max1 // exp > 0:\n",
    "        counting_sort(arr, exp)\n",
    "        exp *= 10\n",
    "    return arr\n",
    "\n",
    "# Example usage\n",
    "unsorted_array = [170, 45, 75, 90, 802, 24, 2, 66]\n",
    "sorted_array = radix_sort(unsorted_array)\n",
    "display(\"Radix Sort:\", sorted_array)"
   ]
  },
  {
   "cell_type": "code",
   "execution_count": 21,
   "metadata": {},
   "outputs": [
    {
     "data": {
      "text/plain": [
       "'Unsorted array:'"
      ]
     },
     "metadata": {},
     "output_type": "display_data"
    },
    {
     "data": {
      "text/plain": [
       "[11, 12, 22, 25, 34, 64, 90]"
      ]
     },
     "metadata": {},
     "output_type": "display_data"
    },
    {
     "data": {
      "text/plain": [
       "'Sorted array:'"
      ]
     },
     "metadata": {},
     "output_type": "display_data"
    },
    {
     "data": {
      "text/plain": [
       "[11, 12, 22, 25, 34, 64, 90]"
      ]
     },
     "metadata": {},
     "output_type": "display_data"
    }
   ],
   "source": [
    "\"\"\"\n",
    "Sorts an array using the bubble sort algorithm.\n",
    "\n",
    "Example:\n",
    "    Input: arr = [64, 34, 25, 12, 22, 11, 90]\n",
    "    Output: [11, 12, 22, 25, 34, 64, 90]\n",
    "\n",
    "Time complexity: O(n^2), where n is the number of elements in the array.\n",
    "Space complexity: O(1), since we sort the array in place.\n",
    "\"\"\"\n",
    "def bubble_sort(arr: list[int]) -> list[int]:\n",
    "    n = len(arr)\n",
    "    # Traverse through all array elements\n",
    "    for i in range(n):\n",
    "        # Last i elements are already in place\n",
    "        for j in range(0, n-i-1):\n",
    "            # Traverse the array from 0 to n-i-1\n",
    "            # Swap if the element found is greater than the next element\n",
    "            if arr[j] > arr[j+1]:\n",
    "                arr[j], arr[j+1] = arr[j+1], arr[j]\n",
    "    return arr\n",
    "\n",
    "# Example usage\n",
    "unsorted_array = [64, 34, 25, 12, 22, 11, 90]\n",
    "sorted_array = bubble_sort(unsorted_array)\n",
    "display(\"Unsorted array:\", unsorted_array)\n",
    "display(\"Sorted array:\", sorted_array)"
   ]
  }
 ],
 "metadata": {
  "kernelspec": {
   "display_name": "Python 3",
   "language": "python",
   "name": "python3"
  },
  "language_info": {
   "codemirror_mode": {
    "name": "ipython",
    "version": 3
   },
   "file_extension": ".py",
   "mimetype": "text/x-python",
   "name": "python",
   "nbconvert_exporter": "python",
   "pygments_lexer": "ipython3",
   "version": "3.12.6"
  }
 },
 "nbformat": 4,
 "nbformat_minor": 2
}
