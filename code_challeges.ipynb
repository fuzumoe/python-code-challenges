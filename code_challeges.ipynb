{
 "cells": [
  {
   "cell_type": "code",
   "execution_count": 5,
   "metadata": {},
   "outputs": [
    {
     "data": {
      "text/plain": [
       "'N'"
      ]
     },
     "execution_count": 5,
     "metadata": {},
     "output_type": "execute_result"
    }
   ],
   "source": [
    "\"\"\"\n",
    "Write a Python program to find out common letters between two strings.\n",
    "e.g. common_letters('NAINA', 'REENE') => 'N'\n",
    "\n",
    "Time and Space Complexity:\n",
    "Time Complexity: O(n + m)\n",
    "- Creating sets from both strings takes O(n) and O(m) time respectively.\n",
    "- Finding the intersection of the sets takes O(min(n, m)) time.\n",
    "Space Complexity: O(n + m)\n",
    "- The space used by the sets is proportional to the size of the input strings.\n",
    "\"\"\"\n",
    "\n",
    "def common_letters(word_1: str, word_2: str) -> str:\n",
    "    unique_chars_1 = set(word_1)\n",
    "    unique_chars_2 = set(word_2)\n",
    "    \n",
    "    common_chars = unique_chars_1 & unique_chars_2\n",
    "    \n",
    "    return \"\".join(common_chars)\n",
    "\n",
    "# Example usage\n",
    "display(common_letters('NAINA', 'REENE'))  # Output: 'N'"
   ]
  },
  {
   "cell_type": "code",
   "execution_count": 22,
   "metadata": {},
   "outputs": [
    {
     "data": {
      "text/plain": [
       "{'eating': 2,\n",
       " 'His': 1,\n",
       " 'sister': 1,\n",
       " 'also': 1,\n",
       " 'loves': 2,\n",
       " 'apple': 2,\n",
       " 'and': 2,\n",
       " 'Adam': 1,\n",
       " 'mango.': 2}"
      ]
     },
     "metadata": {},
     "output_type": "display_data"
    }
   ],
   "source": [
    "\"\"\"\n",
    "Write a Python Program to Count the frequency of words appearing in a string.\n",
    "e.g\n",
    " sentence ='Adam loves eating apple and mango. His sister also loves eating apple and mango.'\n",
    " count_words(sentence) => {'Adam': 1, 'loves': 2, 'eating': 2, 'apple': 2, 'and': 2, 'mango': 2, 'His': 1, 'sister': 1, 'also': 1}\n",
    "\n",
    "Time and Space Complexity:\n",
    "Time Complexity: O(n^2)\n",
    "- The count method inside the dictionary comprehension results in a quadratic time complexity.\n",
    "Space Complexity: O(n)\n",
    "- The space used by the dictionary is proportional to the number of unique words.\n",
    "\"\"\"\n",
    "\n",
    "def count_words(sentence: str) -> dict[str, int]:\n",
    "    words = sentence.split()\n",
    "    \n",
    "    word_freq = {word: words.count(word) for word in set(words)}\n",
    "    return word_freq\n",
    "\n",
    "# Example usage\n",
    "sentence = 'Adam loves eating apple and mango. His sister also loves eating apple and mango.'\n",
    "display(count_words(sentence))  # Output: {'Adam': 1, 'loves': 2, 'eating': 2, 'apple': 2, 'and': 2, 'mango': 2, 'His': 1, 'sister': 1, 'also': 1}"
   ]
  },
  {
   "cell_type": "code",
   "execution_count": 21,
   "metadata": {},
   "outputs": [
    {
     "data": {
      "text/plain": [
       "{'Naina': 852345, 'Kimi': 763567, 'Sheena': 691276}"
      ]
     },
     "metadata": {},
     "output_type": "display_data"
    }
   ],
   "source": [
    "\"\"\"\n",
    "Write a Python Program to convert two lists into a dictionary.\n",
    "e.g.\n",
    "    list_1 = ['Naina', 'Kimi', 'Sheena']\n",
    "    list_2 = [852345, 763567, 691276]\n",
    "    convert_to_dict(list_1, list_2) => {'Naina': 852345, 'Kimi': 763567, 'Sheena': 691276}\n",
    "\n",
    "Time and Space Complexity:\n",
    "Time Complexity: O(n)\n",
    "- The zip function and dictionary creation both take O(n) time.\n",
    "Space Complexity: O(n)\n",
    "- The space used by the dictionary is proportional to the input size.\n",
    "\"\"\"\n",
    "\n",
    "def convert_to_dict(list_1: list[str], list_2: list[int]) -> dict[str, int]:\n",
    "    _dict = dict(zip(list_1, list_2))\n",
    "    return _dict\n",
    "\n",
    "# Example usage\n",
    "list_1 = ['Naina', 'Kimi', 'Sheena']\n",
    "list_2 = [852345, 763567, 691276]\n",
    "\n",
    "display(convert_to_dict(list_1, list_2))  # Output: {'Naina': 852345, 'Kimi': 763567, 'Sheena': 691276}"
   ]
  },
  {
   "cell_type": "code",
   "execution_count": 8,
   "metadata": {},
   "outputs": [
    {
     "data": {
      "text/plain": [
       "3"
      ]
     },
     "execution_count": 8,
     "metadata": {},
     "output_type": "execute_result"
    }
   ],
   "source": [
    "\"\"\"\n",
    "Find missing number in an array (using summation and XOR operation)\n",
    "e.g.\n",
    "    numbers_ = [1 , 2,  4,  5,  6,  7]\n",
    "    find_missing_number_summation(numbers_) => 3\n",
    "    find_missing_number_xor(numbers_) => 3\n",
    "\n",
    "Time and Space Complexity:\n",
    "1. Summation Method:\n",
    "   Time Complexity: O(n)\n",
    "   - Calculating the sum of the array takes O(n) time.\n",
    "   Space Complexity: O(1)\n",
    "   - Only a few extra variables are used.\n",
    "   \n",
    "2. XOR Method:\n",
    "   Time Complexity: O(n)\n",
    "   - Calculating the XOR of the array and the range takes O(n) time.\n",
    "   Space Complexity: O(1)\n",
    "   - Only a few extra variables are used.\n",
    "\"\"\"\n",
    "\n",
    "numbers_ = [1, 2, 4, 5, 6, 7]\n",
    "\n",
    "def find_missing_number_summation(numbers_: list[int]) -> int:\n",
    "    n = len(numbers_) + 1\n",
    "    total_sum = n * (n + 1) // 2\n",
    "    sum_of_numbers = sum(numbers_)\n",
    "    missing_number = total_sum - sum_of_numbers\n",
    "    \n",
    "    return missing_number\n",
    "\n",
    "def find_missing_number_xor(numbers_: list[int]) -> int:\n",
    "    n = len(numbers_) + 1\n",
    "    xor_total = 0\n",
    "    for i in range(1, n + 1):\n",
    "        xor_total ^= i \n",
    "    \n",
    "    xor_numbers = 0\n",
    "    for num in numbers_:\n",
    "        xor_numbers ^= num\n",
    "    \n",
    "    missing_number = xor_total ^ xor_numbers\n",
    "    \n",
    "    return missing_number\n",
    "\n",
    "# Example usage\n",
    "display(find_missing_number_summation(numbers_))  # Output: 3\n",
    "display(find_missing_number_xor(numbers_))        # Output: 3"
   ]
  },
  {
   "cell_type": "code",
   "execution_count": 9,
   "metadata": {},
   "outputs": [
    {
     "name": "stdout",
     "output_type": "stream",
     "text": [
      "[(9, 8)]\n"
     ]
    }
   ],
   "source": [
    "\"\"\" \n",
    "Find out pairs with given sum value of an array\n",
    "e.g.\n",
    "    arr=[5,7,4,3,9,8,18,21] sum=17\n",
    "    two_sum(arr, 17) => [(9, 8)]\n",
    "\n",
    "Time and Space Complexity:\n",
    "Time Complexity: O(n^2)\n",
    "- The nested loops result in a quadratic time complexity.\n",
    "Space Complexity: O(1)\n",
    "- The space used by the pairs list is not proportional to the input size.\n",
    "\"\"\"\n",
    "\n",
    "def two_sum(arr: list[int], sum_: int) -> list[tuple[int, int]]:\n",
    "    pairs = []\n",
    "\n",
    "    for i in range(len(arr)):\n",
    "        for j in range(i + 1, len(arr)):\n",
    "            if arr[i] + arr[j] == sum_:\n",
    "                pairs.append((arr[i], arr[j]))\n",
    "    \n",
    "    return pairs\n",
    "\n",
    "# Example usage\n",
    "arr = [5, 7, 4, 3, 9, 8, 18, 21]\n",
    "sum_ = 17\n",
    "display(two_sum(arr, sum_))  # Output: [(9, 8)]"
   ]
  },
  {
   "cell_type": "code",
   "execution_count": 19,
   "metadata": {},
   "outputs": [
    {
     "data": {
      "text/plain": [
       "4"
      ]
     },
     "execution_count": 19,
     "metadata": {},
     "output_type": "execute_result"
    }
   ],
   "source": [
    "\"\"\"\n",
    "Max height of binary tree (Max depth of binary tree)\n",
    "\n",
    "Time and Space Complexity:\n",
    "Time Complexity: O(n)\n",
    "- Each node is visited once.\n",
    "Space Complexity: O(h)\n",
    "- The recursion stack space is proportional to the height of the tree.\n",
    "\"\"\"\n",
    "\n",
    "class Node:\n",
    "    def __init__(self, value):\n",
    "        self.value = value\n",
    "        self.left: Node = None\n",
    "        self.right: Node = None\n",
    "\n",
    "def max_height_of_binary_tree(node: Node) -> int:\n",
    "    if not node:\n",
    "        return 0\n",
    "    \n",
    "    left_height = max_height_of_binary_tree(node.left)\n",
    "    right_height = max_height_of_binary_tree(node.right)\n",
    "    \n",
    "    return max(left_height, right_height) + 1\n",
    "\n",
    "# Example usage\n",
    "root = Node(1)\n",
    "root.left = Node(2)\n",
    "root.right = Node(3)\n",
    "root.left.left = Node(4)\n",
    "root.left.right = Node(5)\n",
    "root.left.left.left = Node(6)\n",
    "root.left.left.right = Node(7)\n",
    "\n",
    "display(max_height_of_binary_tree(root))  # Output: 4"
   ]
  },
  {
   "cell_type": "code",
   "execution_count": 18,
   "metadata": {},
   "outputs": [
    {
     "name": "stdout",
     "output_type": "stream",
     "text": [
      "2\n"
     ]
    }
   ],
   "source": [
    "\"\"\"\n",
    "Min height of binary tree (Min depth of binary tree)\n",
    "\"\"\"\n",
    "\n",
    "class Node:\n",
    "    def __init__(self, value):\n",
    "        self.value = value\n",
    "        self.left: Node = None\n",
    "        self.right: Node  = None\n",
    "\n",
    "\n",
    "def min_height_of_binary_tree(node: Node) -> int:\n",
    "    if not node:\n",
    "        return 0\n",
    "    \n",
    "    left_height = min_height_of_binary_tree(node.left)\n",
    "    right_height = min_height_of_binary_tree(node.right)\n",
    "    \n",
    "    return min(left_height, right_height) + 1\n",
    "\n",
    "root = Node(1)\n",
    "root.left = Node(2)\n",
    "root.right = Node(3)\n",
    "root.left.left = Node(4)\n",
    "root.left.right = Node(5)\n",
    "root.left.left.left = Node(6)\n",
    "root.left.left.right = Node(7)\n",
    "\n",
    "min_height_of_binary_tree(root)"
   ]
  },
  {
   "cell_type": "code",
   "execution_count": 12,
   "metadata": {},
   "outputs": [
    {
     "data": {
      "text/plain": [
       "1"
      ]
     },
     "execution_count": 12,
     "metadata": {},
     "output_type": "execute_result"
    }
   ],
   "source": [
    "\"\"\" \n",
    "Find Minimum Difference between two elements of array\n",
    "\n",
    "arr = [ 5, 32, 45, 4, 12, 18, 25 ]\n",
    "\n",
    "Algorithm:\n",
    "    1. Sort the elements of the array.\n",
    "    2. Initialize the first difference value to be the largest. Start comparing the difference of the first elements with it.\n",
    "    3. Compare elements with their adjacent element & keep track of the minimum difference.\n",
    "\n",
    "Time and Space Complexity:\n",
    "1. Time Complexity: O(n log n)\n",
    "   - Sorting the array takes O(n log n) time.\n",
    "   - Iterating through the array to find the minimum difference takes O(n) time.\n",
    "   - Overall time complexity is O(n log n).\n",
    "2. Space Complexity: O(1)\n",
    "   - The sorting is done in-place, so no additional space proportional to the input size is used.\n",
    "\"\"\"\n",
    "\n",
    "def min_difference(arr: list[int]) -> int:\n",
    "    arr.sort() \n",
    "    min_diff = float('inf')\n",
    "    for i in range(len(arr) - 1):\n",
    "        diff = arr[i + 1] - arr[i]\n",
    "        min_diff = min(min_diff, diff)\n",
    "    \n",
    "    return min_diff\n",
    "\n",
    "# Example usage\n",
    "arr = [ 5, 32, 45, 4, 12, 18, 25 ]\n",
    "display(min_difference(arr))  # Output: 1"
   ]
  },
  {
   "cell_type": "code",
   "execution_count": 17,
   "metadata": {},
   "outputs": [
    {
     "name": "stdout",
     "output_type": "stream",
     "text": [
      "13\n"
     ]
    }
   ],
   "source": [
    "\"\"\" \n",
    "Find Maximum Difference between two elements of array\n",
    "\n",
    "arr = [ 5, 32, 45, 4, 12, 18, 25 ]\n",
    "\n",
    "Algorithm:\n",
    "    1. Sort the elements of the array.\n",
    "    2. Initialize the first difference value to be the smallest. Start comparing the difference of the first elements with it.\n",
    "    3. Compare elements with their adjacent element & keep track of the maximum difference.\n",
    "\n",
    "Time and Space Complexity:\n",
    "1. Time Complexity: O(n log n)\n",
    "   - Sorting the array takes O(n log n) time.\n",
    "   - Iterating through the array to find the maximum difference takes O(n) time.\n",
    "   - Overall time complexity is O(n log n).\n",
    "2. Space Complexity: O(1)\n",
    "   - The sorting is done in-place, so no additional space proportional to the input size is used.\n",
    "\"\"\"\n",
    "\n",
    "def max_difference(arr: list[int]) -> int:\n",
    "    arr.sort() \n",
    "    max_diff = float('-inf')\n",
    "    for i in range(len(arr) - 1):\n",
    "        diff = arr[i + 1] - arr[i]\n",
    "        max_diff = max(max_diff, diff)\n",
    "    \n",
    "    return max_diff\n",
    "\n",
    "# Example usage\n",
    "arr = [ 5, 32, 45, 4, 12, 18, 25 ]\n",
    "display(max_difference(arr))  # Output: 13"
   ]
  },
  {
   "cell_type": "code",
   "execution_count": 16,
   "metadata": {},
   "outputs": [
    {
     "data": {
      "text/plain": [
       "'Postfix expression:'"
      ]
     },
     "metadata": {},
     "output_type": "display_data"
    },
    {
     "data": {
      "text/plain": [
       "'3 4 2 * 1 5 - 2 3 ^ ^ / +'"
      ]
     },
     "metadata": {},
     "output_type": "display_data"
    },
    {
     "data": {
      "text/plain": [
       "'Result:'"
      ]
     },
     "metadata": {},
     "output_type": "display_data"
    },
    {
     "data": {
      "text/plain": [
       "3"
      ]
     },
     "metadata": {},
     "output_type": "display_data"
    }
   ],
   "source": [
    "from typing import Union\n",
    "\n",
    "\"\"\" \n",
    "Postfix Expression\n",
    "\n",
    "expression = \"3 4 2 * 1 5 - 2 3 ^ ^ / +\"\n",
    "\n",
    "Algorithm:\n",
    "    1. Evaluate each character in the postfix expression.\n",
    "    2. If an operand is encountered, push it onto the stack.\n",
    "    3. If an operator is encountered, pop 2 elements from the stack.\n",
    "        - first = top element from the stack.\n",
    "        - second = second element from the stack.\n",
    "    4. Perform the operation and push the result back onto the stack.\n",
    "        - second operator first\n",
    "    5. Return the top element from the stack.\n",
    "\n",
    "e.g.\n",
    "    expression = \"3 4 2 * 1 5 - 2 3 ^ ^ / +\"\n",
    "    postfix_expression(expression) => 3\n",
    "\n",
    "Time and Space Complexity:\n",
    "1. Time Complexity: O(n)\n",
    "   - The expression is traversed once.\n",
    "2. Space Complexity: O(n)\n",
    "   - The stack requires additional space proportional to the input size.\n",
    "\"\"\"\n",
    "\n",
    "def postfix_expression(expression: Union[list[str], str]) -> int:\n",
    "    arr = expression.split() if isinstance(expression, str) else expression\n",
    "    stack = []\n",
    "    for i in arr:\n",
    "        if i.isdigit():\n",
    "            stack.append(int(i))\n",
    "        else:\n",
    "            first = stack.pop()\n",
    "            second = stack.pop()\n",
    "            if i == '+':\n",
    "                stack.append(second + first)\n",
    "            elif i == '-':\n",
    "                stack.append(second - first)\n",
    "            elif i == '*':\n",
    "                stack.append(second * first)\n",
    "            elif i == '/':\n",
    "                stack.append(second // first)\n",
    "            elif i == '%':\n",
    "                stack.append(second % first)\n",
    "            elif i == '^':\n",
    "                stack.append(second ** first)\n",
    "    \n",
    "    return stack[-1]\n",
    "\n",
    "# Example usage\n",
    "expression = \"3 4 2 * 1 5 - 2 3 ^ ^ / +\"\n",
    "display(\"Postfix expression:\", expression)\n",
    "display(\"Result:\", postfix_expression(expression))"
   ]
  },
  {
   "cell_type": "code",
   "execution_count": 29,
   "metadata": {},
   "outputs": [
    {
     "data": {
      "text/plain": [
       "9"
      ]
     },
     "execution_count": 29,
     "metadata": {},
     "output_type": "execute_result"
    }
   ],
   "source": [
    "\"\"\" \n",
    "Given 'n' non-negative integers representing an elevation map where the width of each bar is 1, compute how much water it can trap after raining.\n",
    "\n",
    "Algorithm:\n",
    "    1. Build an array 'left_max' of size 'n' where left_max[i] represents the maximum height of elements from 0 to i.\n",
    "    2. Build an array 'right_max' of size 'n' where right_max[i] represents the maximum height of elements from i to n-1.\n",
    "    3. Sum of min(left_max[i], right_max[i]) - arr[i] will give the trapped water.\n",
    "\n",
    "e.g.\n",
    "    arr = [1,0,2,0,1,0,3,1,0,2]\n",
    "    left_max = [1,1,2,2,2,2,3,3,3,3]\n",
    "    right_max = [3,3,3,3,3,3,3,2,2,2]\n",
    "    sum of min(left_max[i], right_max[i]) - arr[i] will give the trapped water => 9\n",
    "    \n",
    "    arr = [1,0,2,0,1,0,3,1,0,2]\n",
    "    compute_trapped_water(arr) => 9\n",
    "\n",
    "Time and Space Complexity:\n",
    "1. Time Complexity: O(n)\n",
    "   - The array is traversed three times.\n",
    "2. Space Complexity: O(n)\n",
    "   - Two additional arrays of size 'n' are used.\n",
    "\"\"\"\n",
    "\n",
    "def compute_trapped_water(arr: list[int]) -> int:\n",
    "    n = len(arr)\n",
    "    if n == 0:\n",
    "        return 0\n",
    "    \n",
    "    left_max = [0] * n\n",
    "    right_max = [0] * n\n",
    "    \n",
    "    left_max[0] = arr[0]\n",
    "    for i in range(1, n):\n",
    "        left_max[i] = max(left_max[i - 1], arr[i])\n",
    "    \n",
    "    right_max[n - 1] = arr[n - 1]\n",
    "    for i in range(n - 2, -1, -1):\n",
    "        right_max[i] = max(right_max[i + 1], arr[i])\n",
    "    \n",
    "    total_water = 0\n",
    "    for i in range(n):\n",
    "        total_water += min(left_max[i], right_max[i]) - arr[i]\n",
    "    \n",
    "    return total_water\n",
    "\n",
    "# Example usage\n",
    "arr = [1, 0, 2, 0, 1, 0, 3, 1, 0, 2]\n",
    "display(\"Elevation map:\", arr)\n",
    "display(\"Trapped water:\", compute_trapped_water(arr))"
   ]
  },
  {
   "cell_type": "code",
   "execution_count": 34,
   "metadata": {},
   "outputs": [
    {
     "data": {
      "text/plain": [
       "[2, 1, 5, 4, 8, 7]"
      ]
     },
     "execution_count": 34,
     "metadata": {},
     "output_type": "execute_result"
    }
   ],
   "source": [
    "\"\"\" \n",
    "Wave Array\n",
    "\n",
    "Given an array of integers, sort the array into a wave-like array and return it. \n",
    "In other words, arrange the elements into a sequence such that a1 >= a2 <= a3 >= a4 <= a5.....\n",
    "\n",
    "arr = [1, 2, 3, 4, 5]\n",
    "\n",
    "sort_wave_array(arr) => [2, 1, 4, 3, 5]\n",
    "\n",
    "Algorithm:\n",
    "    1. Sort the array.\n",
    "    2. Swap adjacent elements.\n",
    "\n",
    "Time and Space Complexity:\n",
    "1. Time Complexity: O(n log n)\n",
    "   - Sorting the array takes O(n log n) time.\n",
    "2. Space Complexity: O(1)\n",
    "   - The sorting is done in-place, so no additional space proportional to the input size is used.\n",
    "\"\"\"\n",
    "\n",
    "def sort_wave_array(arr: list[int]) -> list[int]:\n",
    "    arr.sort() \n",
    "    \n",
    "    for i in range(0, len(arr) - 1, 2):\n",
    "        arr[i], arr[i + 1] = arr[i + 1], arr[i]\n",
    "    \n",
    "    return arr\n",
    "\n",
    "# Example usage\n",
    "arr = [2, 5, 1, 7, 4, 8]\n",
    "display(\"Original array:\", arr)\n",
    "display(\"Wave array:\", sort_wave_array(arr))"
   ]
  },
  {
   "cell_type": "code",
   "execution_count": 35,
   "metadata": {},
   "outputs": [
    {
     "data": {
      "text/plain": [
       "False"
      ]
     },
     "execution_count": 35,
     "metadata": {},
     "output_type": "execute_result"
    }
   ],
   "source": [
    "\"\"\" \n",
    "A hotel manager has to process N advance bookings of rooms for the next season. His hotel has K rooms.\n",
    "Bookings contain an arrival date and a departure date. He wants to find out whether there are enough rooms in the hotel to satisfy the demand.\n",
    "Write a program that solves the problem in the most efficient way in time complexity O(n log n).\n",
    "\n",
    "Algorithm:\n",
    "    1. Create a list of tuples where each tuple contains arrival date and 1 and departure date and -1.\n",
    "    2. Sort the list of tuples.\n",
    "    3. Iterate over the list of tuples.\n",
    "    4. If arrival date is encountered, increment the current bookings.\n",
    "    5. If departure date is encountered, decrement the current bookings.\n",
    "    6. If current bookings is greater than K, return False.\n",
    "    7. Return True.\n",
    "\n",
    "e.g.\n",
    "arrivals = [1, 3, 5]\n",
    "departures = [2, 6, 8]\n",
    "K = 1\n",
    "solve_hotel_booking(arrivals, departures, K) => False\n",
    "\n",
    "Time and Space Complexity:\n",
    "1. Time Complexity: O(n log n)\n",
    "   - Sorting the list of tuples takes O(n log n) time.\n",
    "2. Space Complexity: O(n)\n",
    "   - The list of tuples requires additional space proportional to the input size.\n",
    "\"\"\"\n",
    "\n",
    "def solve_hotel_booking(arrivals: list[int], departures: list[int], K: int) -> bool:\n",
    "    bookings = []\n",
    "    for i in range(len(arrivals)):\n",
    "        bookings.append((arrivals[i], 1))\n",
    "        bookings.append((departures[i], -1))\n",
    "    \n",
    "    bookings.sort()\n",
    "    current_bookings = 0\n",
    "    for i in range(len(bookings)):\n",
    "        current_bookings += bookings[i][1]\n",
    "        if current_bookings > K:\n",
    "            return False\n",
    "    \n",
    "    return True\n",
    "\n",
    "# Example usage\n",
    "arrivals = [1, 3, 5]\n",
    "departures = [2, 6, 8]\n",
    "K = 1\n",
    "display(\"Arrivals:\", arrivals)\n",
    "display(\"Departures:\", departures)\n",
    "display(\"Number of rooms:\", K)\n",
    "display(\"Can accommodate all bookings:\", solve_hotel_booking(arrivals, departures, K))"
   ]
  },
  {
   "cell_type": "code",
   "execution_count": 41,
   "metadata": {},
   "outputs": [
    {
     "data": {
      "text/plain": [
       "6"
      ]
     },
     "execution_count": 41,
     "metadata": {},
     "output_type": "execute_result"
    }
   ],
   "source": [
    "\"\"\" \n",
    "Length of last word\n",
    "Given a string s consists of some words separated by spaces, return the length of the last word in the string.\n",
    "If the last word does not exist, return 0.\n",
    "\n",
    "Algorithm:\n",
    "    1. Split the string by space.\n",
    "    2. Iterate over the words in reverse order.\n",
    "    3. If word is not empty, return the length of the word.\n",
    "    4. Return 0\n",
    "\n",
    "e.g.\n",
    "    length_of_last_word(\"Hello World\") => 5\n",
    "    length_of_last_word(\"Hello\") => 5\n",
    "    length_of_last_word(\" \") => 0\n",
    "\n",
    "Time and Space Complexity:\n",
    "1. Time Complexity: O(n)\n",
    "   - The string is split into words, which takes O(n) time.\n",
    "2. Space Complexity: O(n)\n",
    "   - The split words require additional space proportional to the input size.\n",
    "\"\"\"\n",
    "\n",
    "def length_of_last_word(s: str) -> int:\n",
    "    words = s.split()\n",
    "    for word in reversed(words):\n",
    "        if word:\n",
    "            return len(word)\n",
    "    \n",
    "    return 0\n",
    "\n",
    "# Example usage\n",
    "s = \"Hello World I love Python\"\n",
    "display(\"Original string:\", s)\n",
    "display(\"Length of last word:\", length_of_last_word(s))"
   ]
  },
  {
   "cell_type": "code",
   "execution_count": 50,
   "metadata": {},
   "outputs": [
    {
     "data": {
      "text/plain": [
       "{'number of duplicates': 4,\n",
       " 'duplicates': {1: 1, 2: 2, 4: 1},\n",
       " 'unique': {1, 2, 3, 4}}"
      ]
     },
     "execution_count": 50,
     "metadata": {},
     "output_type": "execute_result"
    }
   ],
   "source": [
    "\"\"\" \n",
    "Remove Duplicates from Sorted Array\n",
    "Given a sorted array nums, remove the duplicates in-place such that each element appears only once and returns the new length.\n",
    "\n",
    "Algorithm:\n",
    "    1. Iterate over the array.\n",
    "    2. If current element is not equal to previous element, increment the count.\n",
    "    3. Replace the element at count with current element.\n",
    "    4. Return count.\n",
    "\n",
    "e.g.\n",
    "nums = [1, 1, 2, 2, 3, 4, 4]\n",
    "remove_duplicates_from_sorted_array(nums) => 4\n",
    "\n",
    "Time and Space Complexity:\n",
    "1. Time Complexity: O(n)\n",
    "   - The array is traversed once.\n",
    "2. Space Complexity: O(1)\n",
    "   - No additional space proportional to the input size is used.\n",
    "\"\"\"\n",
    "\n",
    "def remove_duplicates_from_sorted_array(nums: list[int]) -> int:\n",
    "    if not nums:\n",
    "        return 0\n",
    "    \n",
    "    count = 1\n",
    "    for i in range(1, len(nums)):\n",
    "        if nums[i] != nums[i - 1]:\n",
    "            nums[count] = nums[i]\n",
    "            count += 1\n",
    "    \n",
    "    return count\n",
    "\n",
    "# Example usage\n",
    "nums = [1, 1, 2, 2, 3, 4, 4]\n",
    "display(\"Original array:\", nums)\n",
    "new_length = remove_duplicates_from_sorted_array(nums)\n",
    "display(\"Array after removing duplicates:\", nums[:new_length])\n",
    "display(\"New length:\", new_length)"
   ]
  },
  {
   "cell_type": "code",
   "execution_count": 14,
   "metadata": {},
   "outputs": [
    {
     "data": {
      "text/plain": [
       "'Original array:'"
      ]
     },
     "metadata": {},
     "output_type": "display_data"
    },
    {
     "data": {
      "text/plain": [
       "[-2, 1, -3, 4, -1, 2, 1, -5, 4]"
      ]
     },
     "metadata": {},
     "output_type": "display_data"
    },
    {
     "data": {
      "text/plain": [
       "'Maximum subarray sum:'"
      ]
     },
     "metadata": {},
     "output_type": "display_data"
    },
    {
     "data": {
      "text/plain": [
       "6"
      ]
     },
     "metadata": {},
     "output_type": "display_data"
    }
   ],
   "source": [
    "\"\"\" \n",
    "Maximum Sub Array\n",
    "Given an integer array nums, find the contiguous sub array (containing at least one number) which has the largest sum and return its sum.\n",
    "\n",
    "Algorithm:\n",
    "    1. Initialize max_sum and current_sum to the first element of the array.\n",
    "    2. Iterate over the array from index 1 to n-1.\n",
    "    3. Update current_sum to the maximum of current_sum + current element and current element.\n",
    "    4. Update max_sum to the maximum of max_sum and current_sum.\n",
    "    5. Return max_sum.\n",
    "\n",
    "e.g.\n",
    "nums = [-2,1,-3,4,-1,2,1,-5,4]\n",
    "maximum_sub_array(nums) => 6\n",
    "\n",
    "Time and Space Complexity:\n",
    "1. Time Complexity: O(n)\n",
    "   - The array is traversed once.\n",
    "2. Space Complexity: O(1)\n",
    "   - Only a constant amount of extra space is used.\n",
    "\"\"\"\n",
    "\n",
    "def maximum_sub_array(nums: list[int]) -> int:\n",
    "    max_sum = current_sum = nums[0]\n",
    "    for i in range(1, len(nums)):\n",
    "        current_sum = max(current_sum + nums[i], nums[i])\n",
    "        max_sum = max(max_sum, current_sum)\n",
    "    \n",
    "    return max_sum\n",
    "\n",
    "# Example usage\n",
    "nums = [-2, 1, -3, 4, -1, 2, 1, -5, 4]\n",
    "display(\"Original array:\", nums)\n",
    "display(\"Maximum sub array sum:\", maximum_sub_array(nums))"
   ]
  },
  {
   "cell_type": "code",
   "execution_count": 5,
   "metadata": {},
   "outputs": [
    {
     "name": "stdout",
     "output_type": "stream",
     "text": [
      "Python installations found:\n",
      "Path: c:\\Users\\fuzum\\Documents\\tutorials\\python-code-challenges\\venv\\Scripts\\python.exe\n",
      "Version: Python 3.11.3\n",
      "Path: C:\\Users\\fuzum\\AppData\\Local\\Programs\\Python\\Python311\\python.exe\n",
      "Version: Python 3.11.3\n",
      "Path: C:\\Users\\fuzum\\AppData\\Local\\Microsoft\\WindowsApps\\python.exe\n",
      "Could not determine version.\n"
     ]
    }
   ],
   "source": [
    "\"\"\"\n",
    "Find all Python installations on the system and display their versions\n",
    "\"\"\"\n",
    "import os\n",
    "import subprocess\n",
    "import sys\n",
    "\n",
    "def find_all_pythons():\n",
    "    try:\n",
    "        if os.name == 'nt':  # For Windows\n",
    "            result = subprocess.run(['where', 'python'], capture_output=True, text=True)\n",
    "        else:  # For Unix-based systems\n",
    "            result = subprocess.run(['which', '-a', 'python'], capture_output=True, text=True)\n",
    "        \n",
    "        if result.returncode == 0:\n",
    "            python_paths = result.stdout.strip().split('\\n')\n",
    "            display(\"Python installations found:\")\n",
    "            for path in python_paths:\n",
    "                display(f\"Path: {path}\")\n",
    "                try:\n",
    "                    version_result = subprocess.run([path, '--version'], capture_output=True, text=True)\n",
    "                    if version_result.returncode == 0:\n",
    "                        display(f\"Version: {version_result.stdout.strip()}\")\n",
    "                    else:\n",
    "                        display(\"Could not determine version.\")\n",
    "                except Exception as e:\n",
    "                    display(f\"An error occurred while getting version: {e}\")\n",
    "        else:\n",
    "            display(\"No Python installations found.\")\n",
    "    except Exception as e:\n",
    "        display(f\"An error occurred: {e}\")\n",
    "\n",
    "# display the current Python executable\n",
    "# display(\"Current Python executable:\")\n",
    "# display(sys.executable)\n",
    "\n",
    "# Find and display all Python installations and their versions\n",
    "find_all_pythons()"
   ]
  },
  {
   "cell_type": "code",
   "execution_count": 13,
   "metadata": {},
   "outputs": [
    {
     "data": {
      "text/plain": [
       "\"Anagrams of 'fried':\""
      ]
     },
     "metadata": {},
     "output_type": "display_data"
    },
    {
     "data": {
      "text/plain": [
       "['fried', 'fired']"
      ]
     },
     "metadata": {},
     "output_type": "display_data"
    }
   ],
   "source": [
    "\"\"\" \n",
    "Anagrams\n",
    "\n",
    "Algorithm:\n",
    "    1. Remove any non-alphabetic characters and convert both strings to lowercase.\n",
    "    2. Sort the characters of both strings.\n",
    "    3. Compare the sorted versions of the strings. If they are identical, the strings are anagrams.\n",
    "\n",
    "e.g.\n",
    "    fried , fired\n",
    "    sadder, dreads\n",
    "    cat, tca\n",
    "    gainly, laying\n",
    "\n",
    "get_anagram(\"fried\")\n",
    "\n",
    "Time and Space Complexity:\n",
    "1. Time Complexity: O(n * m log m)\n",
    "   - n: Number of words in the word list\n",
    "   - m: Length of the longest word\n",
    "2. Space Complexity: O(n * m)\n",
    "   - Space required to store the sorted versions of the words\n",
    "\"\"\"\n",
    "\n",
    "def get_anagram(word):\n",
    "    # Predefined list of words to check against\n",
    "    word_list = [\"fried\", \"fired\", \"sadder\", \"dreads\", \"cat\", \"tca\", \"gainly\", \"laying\"]\n",
    "    \n",
    "    # Function to clean and sort the word\n",
    "    def clean_and_sort(w):\n",
    "        return ''.join(sorted(w.lower()))\n",
    "    \n",
    "    # Clean and sort the input word\n",
    "    sorted_word = clean_and_sort(word)\n",
    "    \n",
    "    # Find and return all anagrams from the word list\n",
    "    return [w for w in word_list if clean_and_sort(w) == sorted_word]\n",
    "\n",
    "# Example usage\n",
    "display(\"Anagrams of 'fried':\", get_anagram(\"fried\"))"
   ]
  },
  {
   "cell_type": "code",
   "execution_count": 12,
   "metadata": {},
   "outputs": [
    {
     "data": {
      "text/plain": [
       "'Original array:'"
      ]
     },
     "metadata": {},
     "output_type": "display_data"
    },
    {
     "data": {
      "text/plain": [
       "[1, 4, 2, 5, 2, 3, 4, 1, 4, 5, 2, 3]"
      ]
     },
     "metadata": {},
     "output_type": "display_data"
    },
    {
     "data": {
      "text/plain": [
       "'Using set function:'"
      ]
     },
     "metadata": {},
     "output_type": "display_data"
    },
    {
     "data": {
      "text/plain": [
       "[1, 2, 3, 4, 5]"
      ]
     },
     "metadata": {},
     "output_type": "display_data"
    },
    {
     "data": {
      "text/plain": [
       "'Using array:'"
      ]
     },
     "metadata": {},
     "output_type": "display_data"
    },
    {
     "data": {
      "text/plain": [
       "[1, 4, 2, 5, 3]"
      ]
     },
     "metadata": {},
     "output_type": "display_data"
    },
    {
     "data": {
      "text/plain": [
       "'Using lambda function:'"
      ]
     },
     "metadata": {},
     "output_type": "display_data"
    },
    {
     "data": {
      "text/plain": [
       "[1, 2, 3, 4, 5]"
      ]
     },
     "metadata": {},
     "output_type": "display_data"
    },
    {
     "data": {
      "text/plain": [
       "'Using dictionary:'"
      ]
     },
     "metadata": {},
     "output_type": "display_data"
    },
    {
     "data": {
      "text/plain": [
       "[1, 4, 2, 5, 3]"
      ]
     },
     "metadata": {},
     "output_type": "display_data"
    },
    {
     "data": {
      "text/plain": [
       "'Using symmetric difference:'"
      ]
     },
     "metadata": {},
     "output_type": "display_data"
    },
    {
     "data": {
      "text/plain": [
       "[1, 2, 3, 4, 5]"
      ]
     },
     "metadata": {},
     "output_type": "display_data"
    }
   ],
   "source": [
    "\"\"\" \n",
    " Remove duplicates\n",
    " arr=[1,4,2,5,2,3,4,1,4,5,2,3]\n",
    "\n",
    "Algorithms\n",
    "\n",
    "#1 using set function\n",
    "#2 using array\n",
    "#3 lambda function\n",
    "#4 remove duplicate values from dictionary\n",
    "#5 symmetric difference \n",
    "\n",
    "\"\"\"\n",
    "\n",
    "arr = [1, 4, 2, 5, 2, 3, 4, 1, 4, 5, 2, 3]\n",
    "\n",
    "# 1. Using set function\n",
    "def remove_duplicates_set(arr):\n",
    "    return list(set(arr))\n",
    "\n",
    "# 2. Using array (preserving order)\n",
    "def remove_duplicates_array(arr):\n",
    "    result = []\n",
    "    for item in arr:\n",
    "        if item not in result:\n",
    "            result.append(item)\n",
    "    return result\n",
    "\n",
    "# 3. Using lambda function\n",
    "remove_duplicates_lambda = lambda arr: list(set(arr))\n",
    "\n",
    "# 4. Remove duplicate values from dictionary\n",
    "def remove_duplicates_dict(arr):\n",
    "    return list(dict.fromkeys(arr))\n",
    "\n",
    "# 5. Using symmetric difference\n",
    "def remove_duplicates_symmetric_difference(arr):\n",
    "    return list(set(arr) ^ set())\n",
    "\n",
    "# Example usage\n",
    "display(\"Original array:\", arr)\n",
    "display(\"Using set function:\", remove_duplicates_set(arr))\n",
    "display(\"Using array:\", remove_duplicates_array(arr))\n",
    "display(\"Using lambda function:\", remove_duplicates_lambda(arr))\n",
    "display(\"Using dictionary:\", remove_duplicates_dict(arr))\n",
    "display(\"Using symmetric difference:\", remove_duplicates_symmetric_difference(arr))"
   ]
  },
  {
   "cell_type": "code",
   "execution_count": 9,
   "metadata": {},
   "outputs": [
    {
     "data": {
      "text/plain": [
       "'Original array:'"
      ]
     },
     "metadata": {},
     "output_type": "display_data"
    },
    {
     "data": {
      "text/plain": [
       "[1, 4, 2, 5, 2, 3, 4, 1, 4, 5, 2, 3]"
      ]
     },
     "metadata": {},
     "output_type": "display_data"
    },
    {
     "data": {
      "text/plain": [
       "'Using built-in functions:'"
      ]
     },
     "metadata": {},
     "output_type": "display_data"
    },
    {
     "data": {
      "text/plain": [
       "(5, 1)"
      ]
     },
     "metadata": {},
     "output_type": "display_data"
    },
    {
     "data": {
      "text/plain": [
       "'Using single traversal:'"
      ]
     },
     "metadata": {},
     "output_type": "display_data"
    },
    {
     "data": {
      "text/plain": [
       "(5, 1)"
      ]
     },
     "metadata": {},
     "output_type": "display_data"
    },
    {
     "data": {
      "text/plain": [
       "'Using sorting:'"
      ]
     },
     "metadata": {},
     "output_type": "display_data"
    },
    {
     "data": {
      "text/plain": [
       "(5, 1)"
      ]
     },
     "metadata": {},
     "output_type": "display_data"
    }
   ],
   "source": [
    "\"\"\" \n",
    "Find Largest and Smallest element in an array\n",
    "\n",
    "Algorithms:\n",
    "1. Using built-in functions\n",
    "2. Using a single traversal\n",
    "3. Using sorting\n",
    "\n",
    "Time and Space Complexity:\n",
    "1. Using built-in functions:\n",
    "   - Time Complexity: O(n)\n",
    "   - Space Complexity: O(1)\n",
    "2. Using a single traversal:\n",
    "   - Time Complexity: O(n)\n",
    "   - Space Complexity: O(1)\n",
    "3. Using sorting:\n",
    "   - Time Complexity: O(n log n)\n",
    "   - Space Complexity: O(n)\n",
    "\"\"\"\n",
    "\n",
    "arr = [1, 4, 2, 5, 2, 3, 4, 1, 4, 5, 2, 3]\n",
    "\n",
    "# 1. Using built-in functions\n",
    "def find_largest_smallest_builtin(arr):\n",
    "    largest = max(arr)\n",
    "    smallest = min(arr)\n",
    "    return largest, smallest\n",
    "\n",
    "# 2. Using a single traversal\n",
    "def find_largest_smallest_single_traversal(arr):\n",
    "    if not arr:\n",
    "        return None, None\n",
    "    largest = smallest = arr[0]\n",
    "    for num in arr[1:]:\n",
    "        if num > largest:\n",
    "            largest = num\n",
    "        elif num < smallest:\n",
    "            smallest = num\n",
    "    return largest, smallest\n",
    "\n",
    "# 3. Using sorting\n",
    "def find_largest_smallest_sorting(arr):\n",
    "    if not arr:\n",
    "        return None, None\n",
    "    sorted_arr = sorted(arr)\n",
    "    smallest = sorted_arr[0]\n",
    "    largest = sorted_arr[-1]\n",
    "    return largest, smallest\n",
    "\n",
    "# Example usage\n",
    "display(\"Original array:\", arr)\n",
    "display(\"Using built-in functions:\", find_largest_smallest_builtin(arr))\n",
    "display(\"Using single traversal:\", find_largest_smallest_single_traversal(arr))\n",
    "display(\"Using sorting:\", find_largest_smallest_sorting(arr))"
   ]
  },
  {
   "cell_type": "code",
   "execution_count": 10,
   "metadata": {},
   "outputs": [
    {
     "data": {
      "text/plain": [
       "'Original string:'"
      ]
     },
     "metadata": {},
     "output_type": "display_data"
    },
    {
     "data": {
      "text/plain": [
       "'abcd'"
      ]
     },
     "metadata": {},
     "output_type": "display_data"
    },
    {
     "data": {
      "text/plain": [
       "'Rotations using slicing:'"
      ]
     },
     "metadata": {},
     "output_type": "display_data"
    },
    {
     "data": {
      "text/plain": [
       "['abcd', 'bcda', 'cdab', 'dabc']"
      ]
     },
     "metadata": {},
     "output_type": "display_data"
    },
    {
     "data": {
      "text/plain": [
       "'Rotations using concatenation:'"
      ]
     },
     "metadata": {},
     "output_type": "display_data"
    },
    {
     "data": {
      "text/plain": [
       "['abcd', 'bcda', 'cdab', 'dabc']"
      ]
     },
     "metadata": {},
     "output_type": "display_data"
    }
   ],
   "source": [
    "\"\"\" \n",
    "display rotation of string\n",
    "\n",
    "Algorithms:\n",
    "1. Using slicing\n",
    "2. Using concatenation\n",
    "\n",
    "Time and Space Complexity:\n",
    "1. Using slicing:\n",
    "   - Time Complexity: O(n^2)\n",
    "   - Space Complexity: O(n^2)\n",
    "2. Using concatenation:\n",
    "   - Time Complexity: O(n^2)\n",
    "   - Space Complexity: O(n^2)\n",
    "\"\"\"\n",
    " \n",
    "def get_rotations_slicing(s):\n",
    "    n = len(s)\n",
    "    rotations = []\n",
    "    for i in range(n):\n",
    "        rotation = s[i:] + s[:i]\n",
    "        rotations.append(rotation)\n",
    "    return rotations\n",
    "\n",
    "def get_rotations_concatenation(s):\n",
    "    n = len(s)\n",
    "    rotations = []\n",
    "    concatenated = s + s\n",
    "    for i in range(n):\n",
    "        rotation = concatenated[i:i+n]\n",
    "        rotations.append(rotation)\n",
    "    return rotations\n",
    "\n",
    "# Example usage\n",
    "s = \"abcd\"\n",
    "display(\"Original string:\", s)\n",
    "display(\"Rotations using slicing:\", get_rotations_slicing(s))\n",
    "display(\"Rotations using concatenation:\", get_rotations_concatenation(s))"
   ]
  },
  {
   "cell_type": "code",
   "execution_count": 11,
   "metadata": {},
   "outputs": [
    {
     "data": {
      "text/plain": [
       "'Original string:'"
      ]
     },
     "metadata": {},
     "output_type": "display_data"
    },
    {
     "data": {
      "text/plain": [
       "'How to reverse words in a string'"
      ]
     },
     "metadata": {},
     "output_type": "display_data"
    },
    {
     "data": {
      "text/plain": [
       "'Reversed words using split and join:'"
      ]
     },
     "metadata": {},
     "output_type": "display_data"
    },
    {
     "data": {
      "text/plain": [
       "'string a in words reverse to How'"
      ]
     },
     "metadata": {},
     "output_type": "display_data"
    },
    {
     "data": {
      "text/plain": [
       "'Reversed words using loop:'"
      ]
     },
     "metadata": {},
     "output_type": "display_data"
    },
    {
     "data": {
      "text/plain": [
       "'string a in words reverse to How'"
      ]
     },
     "metadata": {},
     "output_type": "display_data"
    },
    {
     "data": {
      "text/plain": [
       "'Reversed words using list comprehension:'"
      ]
     },
     "metadata": {},
     "output_type": "display_data"
    },
    {
     "data": {
      "text/plain": [
       "'string a in words reverse to How'"
      ]
     },
     "metadata": {},
     "output_type": "display_data"
    }
   ],
   "source": [
    "\"\"\" \n",
    "How to reverse words in a string\n",
    "\n",
    "Algorithms:\n",
    "1. Using split and join\n",
    "2. Using a loop\n",
    "3. Using list comprehension\n",
    "\n",
    "Time and Space Complexity:\n",
    "1. Using split and join:\n",
    "   - Time Complexity: O(n)\n",
    "   - Space Complexity: O(n)\n",
    "2. Using a loop:\n",
    "   - Time Complexity: O(n)\n",
    "   - Space Complexity: O(n)\n",
    "3. Using list comprehension:\n",
    "   - Time Complexity: O(n)\n",
    "   - Space Complexity: O(n)\n",
    "\"\"\"\n",
    "\n",
    "# Example string\n",
    "s = \"How to reverse words in a string\"\n",
    "\n",
    "# 1. Using split and join\n",
    "def reverse_words_split_join(s):\n",
    "    words = s.split()\n",
    "    reversed_words = ' '.join(reversed(words))\n",
    "    return reversed_words\n",
    "\n",
    "# 2. Using a loop\n",
    "def reverse_words_loop(s):\n",
    "    words = s.split()\n",
    "    reversed_words = []\n",
    "    for word in reversed(words):\n",
    "        reversed_words.append(word)\n",
    "    return ' '.join(reversed_words)\n",
    "\n",
    "# 3. Using list comprehension\n",
    "def reverse_words_list_comprehension(s):\n",
    "    return ' '.join([word for word in reversed(s.split())])\n",
    "\n",
    "# Example usage\n",
    "display(\"Original string:\", s)\n",
    "display(\"Reversed words using split and join:\", reverse_words_split_join(s))\n",
    "display(\"Reversed words using loop:\", reverse_words_loop(s))\n",
    "display(\"Reversed words using list comprehension:\", reverse_words_list_comprehension(s))"
   ]
  },
  {
   "cell_type": "code",
   "execution_count": null,
   "metadata": {},
   "outputs": [],
   "source": [
    "\"\"\"\n",
    "    Find the second highest number in an array.\n",
    "    \n",
    "    Time complexity: O(n), where n is the number of elements in the array.\n",
    "    This is because we only make a single pass through the array.\n",
    "    \n",
    "    Parameters:\n",
    "    array (list[int]): The input array of integers.\n",
    "    \n",
    "    Returns:\n",
    "    int or None: The second highest number in the array, or None if there are fewer than two unique elements.\n",
    "\"\"\"\n",
    "def second_highest(array):  \n",
    "    # If the array has fewer than 2 elements, return None\n",
    "    if len(array) < 2:\n",
    "        return None  # Not enough elements to determine the second highest\n",
    "    \n",
    "    # Initialize the first and second highest numbers to negative infinity\n",
    "    first, second = float('-inf'), float('-inf')\n",
    "    \n",
    "    # Iterate through each number in the array\n",
    "    for num in array:\n",
    "        # If the current number is greater than the first highest number\n",
    "        if num > first:\n",
    "            # Update the second highest to be the previous first highest\n",
    "            second = first\n",
    "            # Update the first highest to be the current number\n",
    "            first = num\n",
    "        # If the current number is between the first and second highest numbers\n",
    "        elif first > num > second:\n",
    "            # Update the second highest to be the current number\n",
    "            second = num\n",
    "    \n",
    "    # If the second highest number is still negative infinity, return None\n",
    "    # This means there were not enough unique elements to determine the second highest\n",
    "    return second if second != float('-inf') else None\n",
    "\n",
    "# Example usage:\n",
    "my_array = [10, 5, 8, 12, 7]\n",
    "result = second_highest(my_array)\n",
    "display(\"Second-highest number:\", result)  # Output: Second-highest number: 10"
   ]
  },
  {
   "cell_type": "code",
   "execution_count": 7,
   "metadata": {},
   "outputs": [
    {
     "data": {
      "text/plain": [
       "'First non-repeating character:'"
      ]
     },
     "metadata": {},
     "output_type": "display_data"
    },
    {
     "data": {
      "text/plain": [
       "('o', 6)"
      ]
     },
     "metadata": {},
     "output_type": "display_data"
    }
   ],
   "source": [
    "\"\"\"\n",
    "Find the first non-repeating character in a string.\n",
    "\n",
    "Algorithm:\n",
    "1. Use a dictionary to count the occurrences of each character in the string.\n",
    "2. Iterate through the string again to find the first character with a count of 1.\n",
    "3. Return the first non-repeating character or None if no such character exists.\n",
    "\n",
    "Example:\n",
    "Input: \"swiss\"\n",
    "Output: \"w\"\n",
    "Explanation: 's' appears multiple times, 'w' appears only once and is the first non-repeating character.\n",
    "\n",
    "Time complexity: O(n), where n is the length of the string.\n",
    "Space complexity: O(1), since the dictionary will have at most 26 key-value pairs (for lowercase English letters).\n",
    "\"\"\"\n",
    "def first_non_repeating_char(word: str) -> str:\n",
    "    # Step 1: Use a dictionary to count the occurrences of each character\n",
    "    char_count = {}\n",
    "    for char in word:\n",
    "        if char in char_count:\n",
    "            char_count[char] += 1\n",
    "        else:\n",
    "            char_count[char] = 1\n",
    "    \n",
    "    # Step 2: Iterate through the string again to find the first character with a count of 1\n",
    "    for index, char in enumerate(word):\n",
    "        if char_count[char] == 1:\n",
    "            return (char, index)\n",
    "    \n",
    "    # Step 3: Return None if no non-repeating character is found\n",
    "    return None\n",
    "\n",
    "# Example usage:\n",
    "input_string = \"netsetosnet\"\n",
    "result = first_non_repeating_char(input_string)\n",
    "display(\"First non-repeating character:\", result)  # Output: First non-repeating character: o"
   ]
  },
  {
   "cell_type": "code",
   "execution_count": 8,
   "metadata": {},
   "outputs": [
    {
     "data": {
      "text/plain": [
       "'Column number:'"
      ]
     },
     "metadata": {},
     "output_type": "display_data"
    },
    {
     "data": {
      "text/plain": [
       "28"
      ]
     },
     "metadata": {},
     "output_type": "display_data"
    }
   ],
   "source": [
    "\"\"\"\n",
    "Convert an Excel column title to its corresponding column number.\n",
    "\n",
    "Example:\n",
    "Input: \"AB\"\n",
    "Output: 28\n",
    "Explanation: A -> 1, B -> 2, AB -> 1*26 + 2 = 28\n",
    "\n",
    "Time complexity: O(n), where n is the length of the column title.\n",
    "Space complexity: O(1), since we use a constant amount of extra space.\n",
    "\"\"\"\n",
    "def title_to_number(column_title: str) -> int:\n",
    "    result = 0\n",
    "    for char in column_title:\n",
    "        result = result * 26 + (ord(char) - ord('A') + 1)\n",
    "    return result\n",
    "\n",
    "# Example usage:\n",
    "column_title = \"AB\"\n",
    "result = title_to_number(column_title)\n",
    "display(\"Column number:\", result)  # Output: Column number: 28"
   ]
  },
  {
   "cell_type": "code",
   "execution_count": 13,
   "metadata": {},
   "outputs": [
    {
     "data": {
      "text/plain": [
       "'Integer value:'"
      ]
     },
     "metadata": {},
     "output_type": "display_data"
    },
    {
     "data": {
      "text/plain": [
       "195"
      ]
     },
     "metadata": {},
     "output_type": "display_data"
    }
   ],
   "source": [
    "\"\"\"\n",
    "    Convert a Roman numeral to an integer.\n",
    "    \n",
    "    Example:\n",
    "    Input: \"IX\"\n",
    "    Output: 9\n",
    "    Explanation: I -> 1, X -> 10, IX -> 10 - 1 = 9\n",
    "    \n",
    "    Time complexity: O(n), where n is the length of the Roman numeral.\n",
    "    Space complexity: O(1), since we use a constant amount of extra space.\n",
    "    \"\"\"\n",
    "def roman_to_int(s: str) -> int:\n",
    "    roman_to_int_map = {\n",
    "        'I': 1,\n",
    "        'V': 5,\n",
    "        'X': 10,\n",
    "        'L': 50,\n",
    "        'C': 100,\n",
    "        'D': 500,\n",
    "        'M': 1000\n",
    "    }\n",
    "    \n",
    "    result = 0\n",
    "    n = len(s)\n",
    "    \n",
    "    for i in range(n):\n",
    "        if i < n - 1 and roman_to_int_map[s[i]] < roman_to_int_map[s[i + 1]]:\n",
    "            result -= roman_to_int_map[s[i]]\n",
    "        else:\n",
    "            result += roman_to_int_map[s[i]]\n",
    "    \n",
    "    return result\n",
    "\n",
    "# Example usage:\n",
    "roman_numeral = \"CXLLIVI\"\n",
    "result = roman_to_int(roman_numeral)\n",
    "display(\"Integer value:\", result)  # Output: Integer value: 9"
   ]
  },
  {
   "cell_type": "code",
   "execution_count": 15,
   "metadata": {},
   "outputs": [
    {
     "data": {
      "text/plain": [
       "'Common elements:'"
      ]
     },
     "metadata": {},
     "output_type": "display_data"
    },
    {
     "data": {
      "text/plain": [
       "[3, 4]"
      ]
     },
     "metadata": {},
     "output_type": "display_data"
    }
   ],
   "source": [
    "\"\"\"\n",
    "    Find common elements in two lists.\n",
    "\n",
    "    Example:\n",
    "    Input: list1 = [1, 2, 3, 4], list2 = [3, 4, 5, 6]\n",
    "    Output: [3, 4]\n",
    "\n",
    "    Time complexity: O(n + m), where n and m are the lengths of the two lists.\n",
    "    Space complexity: O(n + m), since we use sets to store the elements of the lists.\n",
    "\"\"\"\n",
    "def common_elements(list1: list[int], list2: list[int]) -> list[int]:\n",
    "    # Convert both lists to sets\n",
    "    set1 = set(list1)\n",
    "    set2 = set(list2)\n",
    "    \n",
    "    # Find the intersection of the two sets\n",
    "    common_set = set1.intersection(set2)\n",
    "    \n",
    "    # Convert the result back to a list\n",
    "    return list(common_set)\n",
    "\n",
    "# Example usage:\n",
    "list1 = [1, 2, 3, 4]\n",
    "list2 = [3, 4, 5, 6]\n",
    "result = common_elements(list1, list2)\n",
    "display(\"Common elements:\", result)  # Output: Common elements: [3, 4]"
   ]
  },
  {
   "cell_type": "code",
   "execution_count": 16,
   "metadata": {},
   "outputs": [
    {
     "data": {
      "text/plain": [
       "'Common elements:'"
      ]
     },
     "metadata": {},
     "output_type": "display_data"
    },
    {
     "data": {
      "text/plain": [
       "[3, 4]"
      ]
     },
     "metadata": {},
     "output_type": "display_data"
    }
   ],
   "source": [
    "\"\"\"\n",
    "Find common elements in two lists using a dictionary.\n",
    "\n",
    "Example:\n",
    "Input: list1 = [1, 2, 3, 4], list2 = [3, 4, 5, 6]\n",
    "Output: [3, 4]\n",
    "\n",
    "Time complexity: O(n + m), where n and m are the lengths of the two lists.\n",
    "Space complexity: O(n), since we use a dictionary to store the elements of the first list.\n",
    "\"\"\"\n",
    "def common_elements(list1: list[int], list2: list[int]) -> list[int]:\n",
    "\n",
    "    # Step 1: Use a dictionary to count the occurrences of each element in the first list\n",
    "    element_count = {}\n",
    "    for element in list1:\n",
    "        element_count[element] = element_count.get(element, 0) + 1\n",
    "    \n",
    "    # Step 2: Iterate through the second list and check if each element is in the dictionary\n",
    "    result = []\n",
    "    for element in list2:\n",
    "        if element in element_count and element_count[element] > 0:\n",
    "            result.append(element)\n",
    "            element_count[element] -= 1  # Decrement the count to handle duplicates\n",
    "    \n",
    "    return result\n",
    "\n",
    "# Example usage:\n",
    "list1 = [1, 2, 3, 4]\n",
    "list2 = [3, 4, 5, 6]\n",
    "result = common_elements(list1, list2)\n",
    "\n",
    "display(\"Common elements:\", result)  # Output: Common elements: [3, 4]"
   ]
  },
  {
   "cell_type": "code",
   "execution_count": 20,
   "metadata": {},
   "outputs": [
    {
     "data": {
      "text/plain": [
       "'Common elements:'"
      ]
     },
     "metadata": {},
     "output_type": "display_data"
    },
    {
     "data": {
      "text/plain": [
       "[3, 4]"
      ]
     },
     "metadata": {},
     "output_type": "display_data"
    }
   ],
   "source": [
    "\"\"\"\n",
    "Find common elements in two lists and return unique common elements.\n",
    "\n",
    "Example:\n",
    "Input: list1 = [1, 2, 3, 4, 4], list2 = [3, 4, 5, 6]\n",
    "Output: [3, 4]\n",
    "\n",
    "Time complexity: O(n * m), where n and m are the lengths of the two lists.\n",
    "Space complexity: O(n), since we use an additional list to store unique elements.\n",
    "\"\"\"\n",
    "\n",
    "def get_unique_elements(lst) -> list[int]:\n",
    "    unique_elements = []\n",
    "    for item in lst:\n",
    "        if item not in unique_elements:\n",
    "            unique_elements.append(item)\n",
    "    return unique_elements\n",
    "\n",
    "def common_elements(list1: list[int], list2: list[int]) -> list[int]: \n",
    "    common = []\n",
    "    count = 0\n",
    "    \n",
    "    # Iterate through the first list\n",
    "    for i in list1:\n",
    "        # Check if the element is in the second list\n",
    "        if i in list2:\n",
    "            common.append(i)\n",
    "            count += 1 \n",
    "    \n",
    "    # Remove duplicates from the common list\n",
    "    return get_unique_elements(common)  # list(set(common))\n",
    "\n",
    "# Example usage:\n",
    "list1 = [1, 2, 3, 4, 4]\n",
    "list2 = [3, 4, 5, 6]\n",
    "result = common_elements(list1, list2)\n",
    "\n",
    "display(\"Common elements:\", result)  # Output: Common elements: [3, 4]"
   ]
  },
  {
   "cell_type": "code",
   "execution_count": null,
   "metadata": {},
   "outputs": [],
   "source": [
    "\"\"\"\n",
    "Find common elements in two lists and return unique common elements.\n",
    "\n",
    "Example:\n",
    "Input: list1 = [1, 2, 3, 4, 4], list2 = [3, 4, 5, 6]\n",
    "Output: [3, 4]\n",
    "\n",
    "Time complexity: O(n * m), where n and m are the lengths of the two lists.\n",
    "Space complexity: O(n), since we use an additional list to store unique elements.\n",
    "\"\"\"\n",
    "\n",
    "def get_unique_elements(lst): \n",
    "    unique_elements = []\n",
    "    for item in lst:\n",
    "        if item not in unique_elements:\n",
    "            unique_elements.append(item)\n",
    "    return unique_elements\n",
    "\n",
    "def common_elements(list1: list[int], list2: list[int]) -> list[int]: \n",
    "    common = []\n",
    "    count = 0\n",
    "    \n",
    "    # Iterate through the first list\n",
    "    for i in list1:\n",
    "        # Check if the element is in the second list\n",
    "        if i in list2:\n",
    "            common.append(i)\n",
    "            count += 1 \n",
    "    \n",
    "    # Remove duplicates from the common list\n",
    "    return get_unique_elements(common)  # list(set(common))\n",
    "\n",
    "# Example usage:\n",
    "list1 = [1, 2, 3, 4, 4]\n",
    "list2 = [3, 4, 5, 6]\n",
    "result = common_elements(list1, list2)\n",
    "\n",
    "display(\"Common elements:\", result)  # Output: Common elements: [3, 4]"
   ]
  },
  {
   "cell_type": "code",
   "execution_count": 21,
   "metadata": {},
   "outputs": [
    {
     "data": {
      "text/plain": [
       "'Multiplication result:'"
      ]
     },
     "metadata": {},
     "output_type": "display_data"
    },
    {
     "data": {
      "text/plain": [
       "'56088'"
      ]
     },
     "metadata": {},
     "output_type": "display_data"
    }
   ],
   "source": [
    "\"\"\"\n",
    "    Multiply two numbers represented as strings and return the result as a string.\n",
    "\n",
    "    Example:\n",
    "    Input: num1 = \"123\", num2 = \"456\"\n",
    "    Output: \"56088\"\n",
    "\n",
    "    Time complexity: O(n * m), where n and m are the lengths of the two strings.\n",
    "    Space complexity: O(n + m), since we store the result as a string.\n",
    "\"\"\"\n",
    "def multiply_strings(num1: str, num2: str) -> str:\n",
    "    # Convert the strings to integers\n",
    "    int_num1 = int(num1)\n",
    "    int_num2 = int(num2)\n",
    "    \n",
    "    # Multiply the two integers\n",
    "    result = int_num1 * int_num2\n",
    "    \n",
    "    # Convert the result back to a string\n",
    "    return str(result)\n",
    "\n",
    "# Example usage:\n",
    "num1 = \"123\"\n",
    "num2 = \"456\"\n",
    "result = multiply_strings(num1, num2)\n",
    "display(\"Multiplication result:\", result)  # Output: Multiplication result: \"56088\""
   ]
  },
  {
   "cell_type": "code",
   "execution_count": 22,
   "metadata": {},
   "outputs": [
    {
     "data": {
      "text/plain": [
       "'Multiplication result:'"
      ]
     },
     "metadata": {},
     "output_type": "display_data"
    },
    {
     "data": {
      "text/plain": [
       "'56088'"
      ]
     },
     "metadata": {},
     "output_type": "display_data"
    }
   ],
   "source": [
    "\n",
    "\"\"\"\n",
    "Multiply two numbers represented as strings and return the result as a string.\n",
    "\n",
    "Example:\n",
    "Input: num1 = \"123\", num2 = \"456\"\n",
    "Output: \"56088\"\n",
    "\n",
    "Time complexity: O(n * m), where n and m are the lengths of the two strings.\n",
    "Space complexity: O(n + m), since we store the intermediate results in a list.\n",
    "\"\"\"\n",
    "\n",
    "def multiply_strings(num1: str, num2: str) -> str:\n",
    "    # Convert the strings to lists of integers in reverse order\n",
    "    num1 = list(map(int, reversed(num1)))\n",
    "    num2 = list(map(int, reversed(num2)))\n",
    "    \n",
    "    # Initialize the result list with zeros\n",
    "    result = [0] * (len(num1) + len(num2))\n",
    "    \n",
    "    # Multiply each digit of num1 by each digit of num2\n",
    "    for i in range(len(num1)):\n",
    "        for j in range(len(num2)):\n",
    "            result[i + j] += num1[i] * num2[j]\n",
    "            result[i + j + 1] += result[i + j] // 10  # Handle carry-over\n",
    "            result[i + j] %= 10  # Keep only the last digit\n",
    "    \n",
    "    # Remove leading zeros and convert the result list back to a string\n",
    "    while len(result) > 1 and result[-1] == 0:\n",
    "        result.pop()\n",
    "    \n",
    "    return ''.join(map(str, reversed(result)))\n",
    "\n",
    "# Example usage:\n",
    "num1 = \"123\"\n",
    "num2 = \"456\"\n",
    "result = multiply_strings(num1, num2)\n",
    "display(\"Multiplication result:\", result)  # Output: Multiplication result: \"56088\""
   ]
  },
  {
   "cell_type": "code",
   "execution_count": 25,
   "metadata": {},
   "outputs": [
    {
     "data": {
      "text/plain": [
       "'Arranged balls:'"
      ]
     },
     "metadata": {},
     "output_type": "display_data"
    },
    {
     "data": {
      "text/plain": [
       "['blue', 'blue', 'blue', 'red', 'red', 'green', 'green']"
      ]
     },
     "metadata": {},
     "output_type": "display_data"
    }
   ],
   "source": [
    "\"\"\"\n",
    "Arrange balls in colorwise order based on their first appearance.\n",
    "\n",
    "Example:\n",
    "Input: balls = [\"red\", \"blue\", \"green\", \"red\", \"blue\"]\n",
    "Output: [\"red\", \"red\", \"blue\", \"blue\", \"green\"]\n",
    "\n",
    "Time complexity: O(n), where n is the number of balls.\n",
    "Space complexity: O(n), since we store the counts and the arranged list.\n",
    "\"\"\"\n",
    "\n",
    "def arrange_balls(balls: list[str]) -> list[str]:\n",
    "    # Step 1: Use a dictionary to count the occurrences of each color while maintaining the order of their first appearance\n",
    "    color_count = {}\n",
    "    color_order = []  # List to maintain the order of first appearance\n",
    "    for ball in balls:\n",
    "        if ball in color_count:\n",
    "            color_count[ball] += 1\n",
    "        else:\n",
    "            color_count[ball] = 1\n",
    "            color_order.append(ball)\n",
    "    \n",
    "    # Step 2: Create a new list to store the arranged balls\n",
    "    arranged_balls = []\n",
    "    \n",
    "    # Step 3: Iterate through the color order and append the balls to the new list based on their counts\n",
    "    for color in color_order:\n",
    "        arranged_balls.extend([color] * color_count[color])\n",
    "    \n",
    "    return arranged_balls\n",
    "\n",
    "# Example usage:\n",
    "balls = [\"blue\",\"red\", \"blue\", \"green\", \"red\", \"blue\", \"green\"]\n",
    "result = arrange_balls(balls)\n",
    "display(\"Arranged balls:\", result)  # Output: Arranged balls: [\"red\", \"red\", \"blue\", \"blue\", \"green\"]"
   ]
  },
  {
   "cell_type": "code",
   "execution_count": 26,
   "metadata": {},
   "outputs": [
    {
     "data": {
      "text/plain": [
       "'Unsorted array:'"
      ]
     },
     "metadata": {},
     "output_type": "display_data"
    },
    {
     "data": {
      "text/plain": [
       "[11, 12, 22, 25, 34, 64, 90]"
      ]
     },
     "metadata": {},
     "output_type": "display_data"
    },
    {
     "data": {
      "text/plain": [
       "'Sorted array:'"
      ]
     },
     "metadata": {},
     "output_type": "display_data"
    },
    {
     "data": {
      "text/plain": [
       "[11, 12, 22, 25, 34, 64, 90]"
      ]
     },
     "metadata": {},
     "output_type": "display_data"
    }
   ],
   "source": [
    "def bubble_sort(arr: list[int]) -> list[int]:\n",
    "    n = len(arr)\n",
    "    # Traverse through all array elements\n",
    "    for i in range(n):\n",
    "        # Last i elements are already in place\n",
    "        for j in range(0, n-i-1):\n",
    "            # Traverse the array from 0 to n-i-1\n",
    "            # Swap if the element found is greater than the next element\n",
    "            if arr[j] > arr[j+1]:\n",
    "                arr[j], arr[j+1] = arr[j+1], arr[j]\n",
    "    return arr\n",
    "\n",
    "# Example usage\n",
    "unsorted_array = [64, 34, 25, 12, 22, 11, 90]\n",
    "sorted_array = bubble_sort(unsorted_array)\n",
    "display(\"Unsorted array:\", unsorted_array)\n",
    "display(\"Sorted array:\", sorted_array)"
   ]
  },
  {
   "cell_type": "code",
   "execution_count": 27,
   "metadata": {},
   "outputs": [
    {
     "name": "stdout",
     "output_type": "stream",
     "text": [
      "Is 29 a prime number? True\n"
     ]
    }
   ],
   "source": [
    "\"\"\"\n",
    "Prime Number Check\n",
    "\n",
    "This function checks if a given number is prime. A prime number is a natural number greater than 1 that has no positive divisors other than 1 and itself.\n",
    "\n",
    "Description:\n",
    "- The function takes an integer `n` as input.\n",
    "- It returns `True` if `n` is a prime number, and `False` otherwise.\n",
    "\n",
    "Time complexity: O(sqrt(n)), where n is the number to be checked.\n",
    "Space complexity: O(1), as it uses a constant amount of space.\n",
    "\"\"\"\n",
    "def is_prime(n: int) -> bool:\n",
    "    if n <= 1:\n",
    "        return False\n",
    "    if n <= 3:\n",
    "        return True\n",
    "    if n % 2 == 0 or n % 3 == 0:\n",
    "        return False\n",
    "    i = 5\n",
    "    while i * i <= n:\n",
    "        if n % i == 0 or n % (i + 2) == 0:\n",
    "            return False\n",
    "        i += 6\n",
    "    return True\n",
    "\n",
    "# Example usage\n",
    "number = 29\n",
    "display(f\"Is {number} a prime number? {is_prime(number)}\")"
   ]
  },
  {
   "cell_type": "code",
   "execution_count": 28,
   "metadata": {},
   "outputs": [
    {
     "name": "stdout",
     "output_type": "stream",
     "text": [
      "Prime numbers up to 30: [2, 3, 5, 7, 11, 13, 17, 19, 23, 29]\n"
     ]
    }
   ],
   "source": [
    "\"\"\"\n",
    "Sieve of Eratosthenes Algorithm\n",
    "\n",
    "The Sieve of Eratosthenes is an ancient algorithm used to find all prime numbers up to a specified integer. It works by iteratively marking the multiples of each prime number starting from 2.\n",
    "\n",
    "Description:\n",
    "- The function takes an integer `n` as input and returns a list of all prime numbers less than or equal to `n`.\n",
    "- It initializes a boolean array `prime` of size `n+1` with all entries set to `True`. An entry in `prime[i]` will be `False` if `i` is not a prime, and `True` if `i` is a prime.\n",
    "- Starting from the first prime number (2), it marks all of its multiples as `False`.\n",
    "- It repeats the process for the next number in the list that is still `True`.\n",
    "- The process continues until the square root of `n` is reached.\n",
    "- Finally, it collects all indices that are still `True` in the `prime` array and returns them as the list of prime numbers.\n",
    "\n",
    "Time complexity: O(n log log n), where n is the limit up to which primes are to be found.\n",
    "Space complexity: O(n), due to the storage of the boolean array.\n",
    "\"\"\"\n",
    "def sieve_of_eratosthenes(n: int) -> list[int]:\n",
    "    # Initialize a boolean array \"prime[0..n]\" and set all entries to True.\n",
    "    prime = [True] * (n + 1)\n",
    "    p = 2  # Start with the first prime number\n",
    "\n",
    "    # Iterate over each number up to the square root of n\n",
    "    while p * p <= n:\n",
    "        # If prime[p] is not changed, then it is a prime\n",
    "        if prime[p]:\n",
    "            # Update all multiples of p to False indicating they are not prime\n",
    "            for i in range(p * p, n + 1, p):\n",
    "                prime[i] = False\n",
    "        p += 1  # Move to the next number\n",
    "\n",
    "    # Collect all prime numbers\n",
    "    return [p for p in range(2, n + 1) if prime[p]]\n",
    "\n",
    "# Example usage\n",
    "limit = 30\n",
    "primes = sieve_of_eratosthenes(limit)\n",
    "display(f\"Prime numbers up to {limit}:\", primes)"
   ]
  },
  {
   "cell_type": "code",
   "execution_count": 30,
   "metadata": {},
   "outputs": [
    {
     "name": "stdout",
     "output_type": "stream",
     "text": [
      "Original list: [1, 2, 3, 4, 5]\n",
      "Reversed list: [5, 4, 3, 2, 1]\n"
     ]
    }
   ],
   "source": [
    "\"\"\"\n",
    "Reverse List Function\n",
    "\n",
    "This function reverses a given list using slicing.\n",
    "\n",
    "Description:\n",
    "- The function takes a list as input.\n",
    "- It uses slicing to create a new list that is the reverse of the input list.\n",
    "- The original list remains unchanged.\n",
    "\n",
    "Time complexity: O(n), where n is the number of elements in the list.\n",
    "Space complexity: O(n), as it creates a new list of the same size.\n",
    "\n",
    "Parameters:\n",
    "- lst (list): The list to be reversed.\n",
    "\n",
    "Returns:\n",
    "- list: A new list that is the reverse of the input list.\n",
    "\"\"\"\n",
    "def reverse_list(lst: list) -> list:\n",
    "    return lst[::-1]\n",
    "\n",
    "# Example usage\n",
    "original_list = [1, 2, 3, 4, 5]\n",
    "reversed_list = reverse_list(original_list)\n",
    "display(\"Original list:\", original_list)\n",
    "display(\"Reversed list:\", reversed_list)"
   ]
  },
  {
   "cell_type": "code",
   "execution_count": 32,
   "metadata": {},
   "outputs": [
    {
     "name": "stdout",
     "output_type": "stream",
     "text": [
      "Original list: [1, 2, 3, 4, 5]\n",
      "Reversed list using loop: [5, 4, 3, 2, 1]\n"
     ]
    }
   ],
   "source": [
    "\"\"\"\n",
    "Reverse List Function Using Loop\n",
    "\n",
    "This function reverses a given list using a loop.\n",
    "\n",
    "Description:\n",
    "- The function takes a list as input.\n",
    "- It initializes an empty list to store the reversed elements.\n",
    "- It iterates over the input list from the end to the beginning, appending each element to the new list.\n",
    "- The original list remains unchanged.\n",
    "\n",
    "Time complexity: O(n), where n is the number of elements in the list.\n",
    "Space complexity: O(n), as it creates a new list of the same size.\n",
    "\n",
    "Parameters:\n",
    "- lst (list): The list to be reversed.\n",
    "\n",
    "Returns:\n",
    "- list: A new list that is the reverse of the input list.\n",
    "\"\"\"\n",
    "def reverse_list_using_loop(lst: list) -> list:\n",
    "    reversed_list = []\n",
    "    for i in range(len(lst) - 1, -1, -1):\n",
    "        reversed_list.append(lst[i])\n",
    "    return reversed_list\n",
    "\n",
    "# Example usage\n",
    "original_list = [1, 2, 3, 4, 5]\n",
    "reversed_list = reverse_list_using_loop(original_list)\n",
    "display(\"Original list:\", original_list)\n",
    "display(\"Reversed list using loop:\", reversed_list)"
   ]
  },
  {
   "cell_type": "code",
   "execution_count": 34,
   "metadata": {},
   "outputs": [
    {
     "name": "stderr",
     "output_type": "stream",
     "text": [
      "<>:3: SyntaxWarning: invalid escape sequence '\\d'\n",
      "<>:3: SyntaxWarning: invalid escape sequence '\\d'\n",
      "C:\\Users\\atew\\AppData\\Local\\Temp\\ipykernel_48776\\352591284.py:3: SyntaxWarning: invalid escape sequence '\\d'\n",
      "  \"\"\"\n"
     ]
    },
    {
     "data": {
      "text/plain": [
       "'Extracted numbers:'"
      ]
     },
     "metadata": {},
     "output_type": "display_data"
    },
    {
     "data": {
      "text/plain": [
       "[2023, 25]"
      ]
     },
     "metadata": {},
     "output_type": "display_data"
    }
   ],
   "source": [
    "import re\n",
    "\n",
    "\"\"\"\n",
    "Extract Numbers from Text String Using Regex\n",
    "\n",
    "This function extracts all numbers from a given text string using regular expressions.\n",
    "\n",
    "Description:\n",
    "- The function takes a text string as input.\n",
    "- It uses the `re.findall` method with a regex pattern to find all numbers in the string.\n",
    "- The regex pattern `\\d+` matches one or more digits.\n",
    "- It returns a list of numbers found in the string.\n",
    "\n",
    "Time complexity: O(n), where n is the length of the text string.\n",
    "Space complexity: O(k), where k is the number of numbers found in the text string.\n",
    "\n",
    "Parameters:\n",
    "- text (str): The text string from which to extract numbers.\n",
    "\n",
    "Returns:\n",
    "- list: A list of numbers extracted from the text string.\n",
    "\"\"\"\n",
    "def extract_numbers(text: str) -> list[int]:\n",
    "    # Use regex to find all numbers in the text\n",
    "    numbers = re.findall(r'\\d+', text)\n",
    "    # Convert the found numbers from strings to integers\n",
    "    return [int(num) for num in numbers]\n",
    "\n",
    "# Example usage\n",
    "text_string = \"The year is 2023 and the temperature is 25 degrees.\"\n",
    "numbers = extract_numbers(text_string)\n",
    "display(\"Extracted numbers:\", numbers)\n"
   ]
  },
  {
   "cell_type": "code",
   "execution_count": 3,
   "metadata": {},
   "outputs": [
    {
     "data": {
      "text/plain": [
       "'hello'"
      ]
     },
     "metadata": {},
     "output_type": "display_data"
    }
   ],
   "source": [
    "# %%js\n",
    "alert(\"hello\")"
   ]
  }
 ],
 "metadata": {
  "kernelspec": {
   "display_name": "venv",
   "language": "python",
   "name": "python3"
  },
  "language_info": {
   "codemirror_mode": {
    "name": "ipython",
    "version": 3
   },
   "file_extension": ".py",
   "mimetype": "text/x-python",
   "name": "python",
   "nbconvert_exporter": "python",
   "pygments_lexer": "ipython3",
   "version": "3.12.3"
  }
 },
 "nbformat": 4,
 "nbformat_minor": 2
}
