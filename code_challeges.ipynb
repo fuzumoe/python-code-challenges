{
 "cells": [
  {
   "cell_type": "code",
   "execution_count": 9,
   "metadata": {},
   "outputs": [
    {
     "data": {
      "text/plain": [
       "'N'"
      ]
     },
     "execution_count": 9,
     "metadata": {},
     "output_type": "execute_result"
    }
   ],
   "source": [
    "\"\"\"\n",
    "  1# Write a Python program to find out common letters between two strings.\n",
    "  e.g. common_letters('NAINA', 'REENE') => 'N'\n",
    "\"\"\"\n",
    "def common_letters(word_1: str, word_2: str)->str:\n",
    "    unique_chars_1=  set(word_1)\n",
    "    unique_chars_2 =  set(word_2)\n",
    "    \n",
    "    # common_chars = unique_chars_1.intersection(unique_chars_2)\n",
    "    common_chars = unique_chars_1 & unique_chars_2\n",
    "    \n",
    "    return \"\".join(common_chars)\n",
    "\n",
    "common_letters('NAINA', 'REENE')"
   ]
  },
  {
   "cell_type": "code",
   "execution_count": 14,
   "metadata": {},
   "outputs": [
    {
     "data": {
      "text/plain": [
       "{'Adam': 1,\n",
       " 'also': 1,\n",
       " 'mango.': 2,\n",
       " 'apple': 2,\n",
       " 'His': 1,\n",
       " 'eating': 2,\n",
       " 'sister': 1,\n",
       " 'loves': 2,\n",
       " 'and': 2}"
      ]
     },
     "execution_count": 14,
     "metadata": {},
     "output_type": "execute_result"
    }
   ],
   "source": [
    "\"\"\"\n",
    "Write a Python Program to Count the frequency of words appearing in a string.\n",
    "e.g\n",
    " sentence ='Adam loves eating apple and mango. His sister also loves eating apple and mango.'\n",
    " count_words(sentence) => {'Adam': 1, 'loves': 2, 'eating': 2, 'apple': 2, 'and': 2, 'mango': 2, 'His': 1, 'sister': 1, 'also': 1}\n",
    "\"\"\"\n",
    "def count_words(sentence: str) -> dict[str, int]:\n",
    "    words = sentence.split()\n",
    "    \n",
    "    # word_freq = {}\n",
    "    # for word in set(words): \n",
    "    #     word_freq[word] = word_freq.get(word, 0) + 1\n",
    "    \n",
    "    word_freq = {word: words.count(word) for word in set(words)}\n",
    "    return word_freq\n",
    "\n",
    "sentence ='Adam loves eating apple and mango. His sister also loves eating apple and mango.'\n",
    "count_words(sentence)\n"
   ]
  },
  {
   "cell_type": "code",
   "execution_count": 17,
   "metadata": {},
   "outputs": [
    {
     "data": {
      "text/plain": [
       "{'Naina': 852345, 'Kimi': 763567, 'Sheena': 691276}"
      ]
     },
     "execution_count": 17,
     "metadata": {},
     "output_type": "execute_result"
    }
   ],
   "source": [
    "\"\"\"\n",
    "Write a Python Program to convert two lists into a dictionary.\n",
    "e.g.\n",
    "    list_1 = ['Naina', 'Kimi', 'Sheena']\n",
    "    list_2 = [852345, 763567, 691276    \n",
    "    convert_to_dict(list_1, list_2) => {'Naina': 852345, 'Kimi': 763567, 'Sheena': 691276}]\n",
    "\"\"\"\n",
    "def convert_to_dict(list_1: list[str], list_2: list[int]) -> dict[str, int]:\n",
    "    _dict = {}\n",
    "    \n",
    "    # for key, value in zip(list_1, list_2):\n",
    "    #     _dict[key] = value\n",
    "    \n",
    "    # _dict = { key: value for key, value in zip(list_1, list_2)}\n",
    "    _dict = dict(zip(list_1, list_2))\n",
    "    \n",
    "    return _dict\n",
    "\n",
    "list_1 = ['Naina', 'Kimi', 'Sheena']\n",
    "list_2 = [852345, 763567, 691276 ] \n",
    " \n",
    "convert_to_dict(list_1, list_2)"
   ]
  },
  {
   "cell_type": "code",
   "execution_count": 38,
   "metadata": {},
   "outputs": [
    {
     "data": {
      "text/plain": [
       "3"
      ]
     },
     "execution_count": 38,
     "metadata": {},
     "output_type": "execute_result"
    }
   ],
   "source": [
    "\"\"\"\n",
    "Find missing number in an array (using summation and XOR operation)\n",
    "e.g.\n",
    "    numbers_ = [1 , 2,  4,  5,  6,  7]\n",
    "    find_missing_number_summation(numbers_) => 3\n",
    "    find_missing_number_xor(numbers_) => 3\n",
    "\"\"\"\n",
    "numbers_ = [1 , 2,  4,  5,  6,  7]\n",
    "\n",
    "def find_missing_number_summation(numbers_: list[int]) -> int:\n",
    "    n = len(numbers_) + 1\n",
    "    total_sum = n * (n + 1) // 2\n",
    "    sum_of_numbers = sum(numbers_)\n",
    "    missing_number = total_sum - sum_of_numbers\n",
    "    \n",
    "    return missing_number\n",
    "\n",
    "\n",
    "find_missing_number_summation(numbers_)\n",
    "\n",
    "def find_missing_number_xor(numbers_: list[int]) -> int:\n",
    "    n = len(numbers_) + 1\n",
    "    xor_total = 0\n",
    "    for i in range(1, n + 1):\n",
    "        xor_total ^= i \n",
    "    \n",
    "    xor_numbers = 0\n",
    "    for num in numbers_:\n",
    "        xor_numbers ^= num\n",
    "    \n",
    "    missing_number = xor_total ^ xor_numbers\n",
    "    \n",
    "    return missing_number\n",
    "\n",
    "find_missing_number_xor(numbers_)"
   ]
  },
  {
   "cell_type": "code",
   "execution_count": 44,
   "metadata": {},
   "outputs": [
    {
     "name": "stdout",
     "output_type": "stream",
     "text": [
      "[(9, 8)]\n"
     ]
    }
   ],
   "source": [
    "\"\"\" \n",
    "Find out pairs with given sum value of an array\n",
    "e.g.\n",
    "    arr=[5,7,4,3,9,8,18,21] sum=17\n",
    "    two_sum(arr, 17) => [(9, 8)]\n",
    "\"\"\"\n",
    "def two_sum(arr: list[int], sum_: int) -> list[tuple[int, int]]:\n",
    "    pairs = []\n",
    "\n",
    "    for i in range(len(arr)):\n",
    "        for j in range(i + 1, len(arr)):\n",
    "            if arr[i] + arr[j] == sum_:\n",
    "                pairs.append((arr[i], arr[j]))\n",
    "    \n",
    "    return pairs\n",
    "\n",
    "arr = [5, 7, 4, 3, 9, 8, 18, 21]\n",
    "sum = 17\n",
    "print(two_sum(arr, sum))   "
   ]
  },
  {
   "cell_type": "code",
   "execution_count": 45,
   "metadata": {},
   "outputs": [
    {
     "data": {
      "text/plain": [
       "4"
      ]
     },
     "execution_count": 45,
     "metadata": {},
     "output_type": "execute_result"
    }
   ],
   "source": [
    "\"\"\"\n",
    "Max height of binary tree (Max depth of binary tree)\n",
    "\"\"\"\n",
    "\n",
    "class Node:\n",
    "    def __init__(self, value):\n",
    "        self.value = value\n",
    "        self.left: Node = None\n",
    "        self.right: Node  = None\n",
    "\n",
    "def max_height_of_binary_tree(node: Node) -> int:\n",
    "    if not node:\n",
    "        return 0\n",
    "    \n",
    "    left_height = max_height_of_binary_tree(node.left)\n",
    "    right_height = max_height_of_binary_tree(node.right)\n",
    "    \n",
    "    return max(left_height, right_height) + 1\n",
    "\n",
    "root = Node(1)\n",
    "root.left = Node(2)\n",
    "root.right = Node(3)\n",
    "root.left.left = Node(4)\n",
    "root.left.right = Node(5)\n",
    "root.left.left.left = Node(6)\n",
    "root.left.left.right = Node(7)\n",
    "\n",
    "max_height_of_binary_tree(root)"
   ]
  },
  {
   "cell_type": "code",
   "execution_count": 46,
   "metadata": {},
   "outputs": [
    {
     "data": {
      "text/plain": [
       "2"
      ]
     },
     "execution_count": 46,
     "metadata": {},
     "output_type": "execute_result"
    }
   ],
   "source": [
    "\"\"\"\n",
    "Min height of binary tree (Min depth of binary tree)\n",
    "\"\"\"\n",
    "\n",
    "class Node:\n",
    "    def __init__(self, value):\n",
    "        self.value = value\n",
    "        self.left: Node = None\n",
    "        self.right: Node  = None\n",
    "\n",
    "\n",
    "def min_height_of_binary_tree(node: Node) -> int:\n",
    "    if not node:\n",
    "        return 0\n",
    "    \n",
    "    left_height = min_height_of_binary_tree(node.left)\n",
    "    right_height = min_height_of_binary_tree(node.right)\n",
    "    \n",
    "    return min(left_height, right_height) + 1\n",
    "\n",
    "root = Node(1)\n",
    "root.left = Node(2)\n",
    "root.right = Node(3)\n",
    "root.left.left = Node(4)\n",
    "root.left.right = Node(5)\n",
    "root.left.left.left = Node(6)\n",
    "root.left.left.right = Node(7)\n",
    "\n",
    "min_height_of_binary_tree(root)"
   ]
  },
  {
   "cell_type": "code",
   "execution_count": 55,
   "metadata": {},
   "outputs": [
    {
     "data": {
      "text/plain": [
       "1"
      ]
     },
     "execution_count": 55,
     "metadata": {},
     "output_type": "execute_result"
    }
   ],
   "source": [
    "\"\"\" \n",
    "Find Minimum Difference between two elements of array\n",
    "\n",
    "arr = [ 5, 32, 45, 4, 12, 18, 25 ]\n",
    "\n",
    "Algorithm\n",
    "\n",
    "    1. Sort the elements of array.\n",
    "    2. Initialise the first difference value to be largest. Start comparing the difference of first elements with it.\n",
    "    3. Compare elements with its adjacent element & keep track of minimum difference.\n",
    "\"\"\"\n",
    "\n",
    "def min_difference(arr: list[int]) -> int:\n",
    "    arr.sort() \n",
    "    min_diff = float('inf')\n",
    "    for i in range(len(arr) - 1):\n",
    "        diff = arr[i + 1] - arr[i]\n",
    "        min_diff = min(min_diff, diff)\n",
    "    \n",
    "    return min_diff\n",
    "\n",
    "arr = [ 5, 32, 45, 4, 12, 18, 25 ]\n",
    "min_difference(arr)\n",
    " \n",
    "\n",
    " "
   ]
  },
  {
   "cell_type": "code",
   "execution_count": 58,
   "metadata": {},
   "outputs": [
    {
     "name": "stdout",
     "output_type": "stream",
     "text": [
      "13\n"
     ]
    }
   ],
   "source": [
    "\"\"\" \n",
    "Find Maximum Difference between two elements of array\n",
    "\n",
    "arr = [ 5, 32, 45, 4, 12, 18, 25 ]\n",
    "\n",
    "Algorithm\n",
    "\n",
    "    1. Sort the elements of array.\n",
    "    2. Initialise the first difference value to be smallest. Start comparing the difference of first elements with it.\n",
    "    3. Compare elements with its adjacent element & keep track of maximum difference.\n",
    "\"\"\"\n",
    "\n",
    "def max_difference(arr: list[int]) -> int:\n",
    "    arr.sort() \n",
    "    max_diff = float('-inf')\n",
    "    for i in range(len(arr) - 1):\n",
    "        diff = arr[i + 1] - arr[i]\n",
    "        max_diff = max(max_diff, diff)\n",
    "    \n",
    "    return max_diff\n",
    "\n",
    "arr = [ 5, 32, 45, 4, 12, 18, 25 ]\n",
    "print(max_difference(arr))  # Output: 13"
   ]
  },
  {
   "cell_type": "code",
   "execution_count": 64,
   "metadata": {},
   "outputs": [
    {
     "data": {
      "text/plain": [
       "9"
      ]
     },
     "execution_count": 64,
     "metadata": {},
     "output_type": "execute_result"
    }
   ],
   "source": [
    "\n",
    "\n",
    "from typing import Union\n",
    "\"\"\"\n",
    "Postfix Expression\n",
    "\n",
    "expression = \"3 4 2 * 1 5 - 2 3 ^ ^ / +\"\n",
    "\n",
    "Algorithm\n",
    "\n",
    "    1. Evaluate for each character in postfix expression.\n",
    "    2. If operand is encountered, push into stack.\n",
    "    3. If operator is encountered, pop 2 characters from stack which were already filled in stack.\n",
    "        first = top element from stack.\n",
    "        second = second element from stack.\n",
    "    4. Check for operator & push into stack after operation.\n",
    "        second operator first\n",
    "    5. Return top element from stack.\n",
    "\"\"\"\n",
    "\n",
    "\n",
    "def postfix_expression(expression: Union[list[str], str]) -> int:\n",
    "    arr = expression.split() if isinstance(expression, str) else expression\n",
    "    stack = []\n",
    "    for i in arr:\n",
    "        if i.isdigit():\n",
    "            stack.append(int(i))\n",
    "        else:\n",
    "            first = stack.pop()\n",
    "            second = stack.pop()\n",
    "            if i == '+':\n",
    "                stack.append(second + first)\n",
    "            elif i == '-':\n",
    "                stack.append(second - first)\n",
    "            elif i == '*':\n",
    "                stack.append(second * first)\n",
    "            elif i == '/':\n",
    "                stack.append(second // first)\n",
    "            elif i == '%':\n",
    "                stack.append(second % first)\n",
    "    \n",
    "    return stack[-1]\n",
    "\n",
    "expression = \"3 4 2 * 1 5 - 2 3 ^ ^ / +\"\n",
    "postfix_expression(arr)\n",
    "\n",
    " "
   ]
  }
 ],
 "metadata": {
  "kernelspec": {
   "display_name": "venv",
   "language": "python",
   "name": "python3"
  },
  "language_info": {
   "codemirror_mode": {
    "name": "ipython",
    "version": 3
   },
   "file_extension": ".py",
   "mimetype": "text/x-python",
   "name": "python",
   "nbconvert_exporter": "python",
   "pygments_lexer": "ipython3",
   "version": "3.12.6"
  }
 },
 "nbformat": 4,
 "nbformat_minor": 2
}
